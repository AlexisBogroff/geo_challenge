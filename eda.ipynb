{
 "cells": [
  {
   "cell_type": "code",
   "execution_count": 236,
   "metadata": {},
   "outputs": [],
   "source": [
    "import pandas as pd\n",
    "import json\n",
    "import matplotlib.pyplot as plt\n",
    "import seaborn as sns"
   ]
  },
  {
   "cell_type": "code",
   "execution_count": 237,
   "metadata": {},
   "outputs": [],
   "source": [
    "sns.set_theme()"
   ]
  },
  {
   "cell_type": "markdown",
   "metadata": {},
   "source": [
    "## Load data"
   ]
  },
  {
   "cell_type": "code",
   "execution_count": 177,
   "metadata": {},
   "outputs": [],
   "source": [
    "with open('data/starships.geojson') as f:\n",
    "    data = json.load(f)"
   ]
  },
  {
   "cell_type": "markdown",
   "metadata": {},
   "source": [
    "## Drop useless information"
   ]
  },
  {
   "cell_type": "markdown",
   "metadata": {},
   "source": [
    "### Extract from data"
   ]
  },
  {
   "cell_type": "code",
   "execution_count": 178,
   "metadata": {},
   "outputs": [],
   "source": [
    "data = data['features']\n",
    "data = pd.DataFrame(data)"
   ]
  },
  {
   "cell_type": "code",
   "execution_count": 179,
   "metadata": {},
   "outputs": [
    {
     "data": {
      "text/html": [
       "<div>\n",
       "<style scoped>\n",
       "    .dataframe tbody tr th:only-of-type {\n",
       "        vertical-align: middle;\n",
       "    }\n",
       "\n",
       "    .dataframe tbody tr th {\n",
       "        vertical-align: top;\n",
       "    }\n",
       "\n",
       "    .dataframe thead th {\n",
       "        text-align: right;\n",
       "    }\n",
       "</style>\n",
       "<table border=\"1\" class=\"dataframe\">\n",
       "  <thead>\n",
       "    <tr style=\"text-align: right;\">\n",
       "      <th></th>\n",
       "      <th>type</th>\n",
       "      <th>properties</th>\n",
       "      <th>geometry</th>\n",
       "    </tr>\n",
       "  </thead>\n",
       "  <tbody>\n",
       "    <tr>\n",
       "      <th>0</th>\n",
       "      <td>Feature</td>\n",
       "      <td>{'id': 2524742, 'level1': 'Spaceship', 'level2...</td>\n",
       "      <td>{'type': 'Point', 'coordinates': [-19.94941450...</td>\n",
       "    </tr>\n",
       "    <tr>\n",
       "      <th>1</th>\n",
       "      <td>Feature</td>\n",
       "      <td>{'id': 2525762, 'level1': 'Spaceship', 'level2...</td>\n",
       "      <td>{'type': 'Point', 'coordinates': [-19.94889609...</td>\n",
       "    </tr>\n",
       "    <tr>\n",
       "      <th>2</th>\n",
       "      <td>Feature</td>\n",
       "      <td>{'id': 2524782, 'level1': 'Spaceship', 'level2...</td>\n",
       "      <td>{'type': 'Point', 'coordinates': [-19.94730510...</td>\n",
       "    </tr>\n",
       "    <tr>\n",
       "      <th>3</th>\n",
       "      <td>Feature</td>\n",
       "      <td>{'id': 2524782, 'level1': 'Spaceship', 'level2...</td>\n",
       "      <td>{'type': 'Point', 'coordinates': [-19.94790694...</td>\n",
       "    </tr>\n",
       "    <tr>\n",
       "      <th>4</th>\n",
       "      <td>Feature</td>\n",
       "      <td>{'id': 2524742, 'level1': 'Spaceship', 'level2...</td>\n",
       "      <td>{'type': 'Point', 'coordinates': [-19.94946217...</td>\n",
       "    </tr>\n",
       "  </tbody>\n",
       "</table>\n",
       "</div>"
      ],
      "text/plain": [
       "      type                                         properties  \\\n",
       "0  Feature  {'id': 2524742, 'level1': 'Spaceship', 'level2...   \n",
       "1  Feature  {'id': 2525762, 'level1': 'Spaceship', 'level2...   \n",
       "2  Feature  {'id': 2524782, 'level1': 'Spaceship', 'level2...   \n",
       "3  Feature  {'id': 2524782, 'level1': 'Spaceship', 'level2...   \n",
       "4  Feature  {'id': 2524742, 'level1': 'Spaceship', 'level2...   \n",
       "\n",
       "                                            geometry  \n",
       "0  {'type': 'Point', 'coordinates': [-19.94941450...  \n",
       "1  {'type': 'Point', 'coordinates': [-19.94889609...  \n",
       "2  {'type': 'Point', 'coordinates': [-19.94730510...  \n",
       "3  {'type': 'Point', 'coordinates': [-19.94790694...  \n",
       "4  {'type': 'Point', 'coordinates': [-19.94946217...  "
      ]
     },
     "execution_count": 179,
     "metadata": {},
     "output_type": "execute_result"
    }
   ],
   "source": [
    "data.head()"
   ]
  },
  {
   "cell_type": "code",
   "execution_count": 180,
   "metadata": {},
   "outputs": [
    {
     "data": {
      "text/html": [
       "<div>\n",
       "<style scoped>\n",
       "    .dataframe tbody tr th:only-of-type {\n",
       "        vertical-align: middle;\n",
       "    }\n",
       "\n",
       "    .dataframe tbody tr th {\n",
       "        vertical-align: top;\n",
       "    }\n",
       "\n",
       "    .dataframe thead th {\n",
       "        text-align: right;\n",
       "    }\n",
       "</style>\n",
       "<table border=\"1\" class=\"dataframe\">\n",
       "  <thead>\n",
       "    <tr style=\"text-align: right;\">\n",
       "      <th></th>\n",
       "      <th>type</th>\n",
       "      <th>properties</th>\n",
       "      <th>geometry</th>\n",
       "    </tr>\n",
       "  </thead>\n",
       "  <tbody>\n",
       "    <tr>\n",
       "      <th>0</th>\n",
       "      <td>Feature</td>\n",
       "      <td>{'id': 2524742, 'level1': 'Spaceship', 'level2...</td>\n",
       "      <td>{'type': 'Point', 'coordinates': [-19.94941450...</td>\n",
       "    </tr>\n",
       "    <tr>\n",
       "      <th>1</th>\n",
       "      <td>Feature</td>\n",
       "      <td>{'id': 2525762, 'level1': 'Spaceship', 'level2...</td>\n",
       "      <td>{'type': 'Point', 'coordinates': [-19.94889609...</td>\n",
       "    </tr>\n",
       "    <tr>\n",
       "      <th>2</th>\n",
       "      <td>Feature</td>\n",
       "      <td>{'id': 2524782, 'level1': 'Spaceship', 'level2...</td>\n",
       "      <td>{'type': 'Point', 'coordinates': [-19.94730510...</td>\n",
       "    </tr>\n",
       "    <tr>\n",
       "      <th>3</th>\n",
       "      <td>Feature</td>\n",
       "      <td>{'id': 2524782, 'level1': 'Spaceship', 'level2...</td>\n",
       "      <td>{'type': 'Point', 'coordinates': [-19.94790694...</td>\n",
       "    </tr>\n",
       "    <tr>\n",
       "      <th>4</th>\n",
       "      <td>Feature</td>\n",
       "      <td>{'id': 2524742, 'level1': 'Spaceship', 'level2...</td>\n",
       "      <td>{'type': 'Point', 'coordinates': [-19.94946217...</td>\n",
       "    </tr>\n",
       "  </tbody>\n",
       "</table>\n",
       "</div>"
      ],
      "text/plain": [
       "      type                                         properties  \\\n",
       "0  Feature  {'id': 2524742, 'level1': 'Spaceship', 'level2...   \n",
       "1  Feature  {'id': 2525762, 'level1': 'Spaceship', 'level2...   \n",
       "2  Feature  {'id': 2524782, 'level1': 'Spaceship', 'level2...   \n",
       "3  Feature  {'id': 2524782, 'level1': 'Spaceship', 'level2...   \n",
       "4  Feature  {'id': 2524742, 'level1': 'Spaceship', 'level2...   \n",
       "\n",
       "                                            geometry  \n",
       "0  {'type': 'Point', 'coordinates': [-19.94941450...  \n",
       "1  {'type': 'Point', 'coordinates': [-19.94889609...  \n",
       "2  {'type': 'Point', 'coordinates': [-19.94730510...  \n",
       "3  {'type': 'Point', 'coordinates': [-19.94790694...  \n",
       "4  {'type': 'Point', 'coordinates': [-19.94946217...  "
      ]
     },
     "execution_count": 180,
     "metadata": {},
     "output_type": "execute_result"
    }
   ],
   "source": [
    "data.head()"
   ]
  },
  {
   "cell_type": "code",
   "execution_count": 181,
   "metadata": {},
   "outputs": [
    {
     "data": {
      "text/plain": [
       "(3467, 3)"
      ]
     },
     "execution_count": 181,
     "metadata": {},
     "output_type": "execute_result"
    }
   ],
   "source": [
    "data.shape"
   ]
  },
  {
   "cell_type": "code",
   "execution_count": 182,
   "metadata": {},
   "outputs": [
    {
     "data": {
      "text/plain": [
       "{'id': 2524742,\n",
       " 'level1': 'Spaceship',\n",
       " 'level2': 'Imperial SpaceShuttle',\n",
       " 'stream_date': '0121/03/20 12:00:00',\n",
       " 'force_operante': 'Galactic Empire',\n",
       " 'site_type': ['Spaceport']}"
      ]
     },
     "execution_count": 182,
     "metadata": {},
     "output_type": "execute_result"
    }
   ],
   "source": [
    "data['properties'][0]"
   ]
  },
  {
   "cell_type": "code",
   "execution_count": 183,
   "metadata": {},
   "outputs": [
    {
     "data": {
      "text/plain": [
       "{'type': 'Point', 'coordinates': [-19.9494145077604, 27.550263020416665]}"
      ]
     },
     "execution_count": 183,
     "metadata": {},
     "output_type": "execute_result"
    }
   ],
   "source": [
    "data['geometry'][0]"
   ]
  },
  {
   "cell_type": "markdown",
   "metadata": {},
   "source": [
    "### Investigate constants"
   ]
  },
  {
   "cell_type": "code",
   "execution_count": 184,
   "metadata": {},
   "outputs": [
    {
     "name": "stdout",
     "output_type": "stream",
     "text": [
      "1\n"
     ]
    }
   ],
   "source": [
    "# Drop constant type column\n",
    "print(data['type'].nunique())\n",
    "data.drop('type', axis=1, inplace=True)"
   ]
  },
  {
   "cell_type": "code",
   "execution_count": 185,
   "metadata": {},
   "outputs": [],
   "source": [
    "# Create dataframe prop and geom from data\n",
    "prop = data['properties']\n",
    "prop = pd.DataFrame(list(prop))\n",
    "geom = data['geometry']\n",
    "geom = pd.DataFrame(list(geom))"
   ]
  },
  {
   "cell_type": "code",
   "execution_count": 186,
   "metadata": {},
   "outputs": [
    {
     "name": "stdout",
     "output_type": "stream",
     "text": [
      "1\n"
     ]
    }
   ],
   "source": [
    "# Drop level1\n",
    "print(prop['level1'].nunique())\n",
    "prop.drop('level1', axis=1, inplace=True)"
   ]
  },
  {
   "cell_type": "code",
   "execution_count": 187,
   "metadata": {},
   "outputs": [
    {
     "name": "stdout",
     "output_type": "stream",
     "text": [
      "1\n"
     ]
    }
   ],
   "source": [
    "# Drop force_operante\n",
    "print(prop['force_operante'].nunique())\n",
    "prop.drop('force_operante', axis=1, inplace=True)"
   ]
  },
  {
   "cell_type": "code",
   "execution_count": 188,
   "metadata": {},
   "outputs": [
    {
     "name": "stdout",
     "output_type": "stream",
     "text": [
      "(3467, 4)\n",
      "3467\n"
     ]
    }
   ],
   "source": [
    "# Drop site_type\n",
    "print(prop.shape)\n",
    "print(sum(prop['site_type'].apply(lambda x: x==['Spaceport'])))\n",
    "prop.drop('site_type', axis=1, inplace=True)"
   ]
  },
  {
   "cell_type": "markdown",
   "metadata": {},
   "source": [
    "- Since these have the same length, the column site_type is constant\n",
    "- Drop it!"
   ]
  },
  {
   "cell_type": "code",
   "execution_count": 189,
   "metadata": {},
   "outputs": [
    {
     "data": {
      "text/html": [
       "<div>\n",
       "<style scoped>\n",
       "    .dataframe tbody tr th:only-of-type {\n",
       "        vertical-align: middle;\n",
       "    }\n",
       "\n",
       "    .dataframe tbody tr th {\n",
       "        vertical-align: top;\n",
       "    }\n",
       "\n",
       "    .dataframe thead th {\n",
       "        text-align: right;\n",
       "    }\n",
       "</style>\n",
       "<table border=\"1\" class=\"dataframe\">\n",
       "  <thead>\n",
       "    <tr style=\"text-align: right;\">\n",
       "      <th></th>\n",
       "      <th>id</th>\n",
       "      <th>level2</th>\n",
       "      <th>stream_date</th>\n",
       "    </tr>\n",
       "  </thead>\n",
       "  <tbody>\n",
       "    <tr>\n",
       "      <th>0</th>\n",
       "      <td>2524742</td>\n",
       "      <td>Imperial SpaceShuttle</td>\n",
       "      <td>0121/03/20 12:00:00</td>\n",
       "    </tr>\n",
       "    <tr>\n",
       "      <th>1</th>\n",
       "      <td>2525762</td>\n",
       "      <td>Imperial SpaceShuttle</td>\n",
       "      <td>0121/03/20 12:00:00</td>\n",
       "    </tr>\n",
       "    <tr>\n",
       "      <th>2</th>\n",
       "      <td>2524782</td>\n",
       "      <td>Imperial SpaceShuttle</td>\n",
       "      <td>0121/03/20 12:00:00</td>\n",
       "    </tr>\n",
       "    <tr>\n",
       "      <th>3</th>\n",
       "      <td>2524782</td>\n",
       "      <td>Imperial SpaceShuttle</td>\n",
       "      <td>0121/03/20 12:00:00</td>\n",
       "    </tr>\n",
       "    <tr>\n",
       "      <th>4</th>\n",
       "      <td>2524742</td>\n",
       "      <td>Imperial SpaceShuttle</td>\n",
       "      <td>0121/03/20 12:00:00</td>\n",
       "    </tr>\n",
       "    <tr>\n",
       "      <th>...</th>\n",
       "      <td>...</td>\n",
       "      <td>...</td>\n",
       "      <td>...</td>\n",
       "    </tr>\n",
       "    <tr>\n",
       "      <th>3462</th>\n",
       "      <td>3455</td>\n",
       "      <td>Imperial SpaceShuttle</td>\n",
       "      <td>0121/04/28 12:00:00</td>\n",
       "    </tr>\n",
       "    <tr>\n",
       "      <th>3463</th>\n",
       "      <td>3456</td>\n",
       "      <td>Imperial SpaceShuttle</td>\n",
       "      <td>0121/03/20 12:00:00</td>\n",
       "    </tr>\n",
       "    <tr>\n",
       "      <th>3464</th>\n",
       "      <td>3457</td>\n",
       "      <td>Imperial SpaceShuttle</td>\n",
       "      <td>0121/03/20 12:00:00</td>\n",
       "    </tr>\n",
       "    <tr>\n",
       "      <th>3465</th>\n",
       "      <td>3458</td>\n",
       "      <td>Imperial SpaceShuttle</td>\n",
       "      <td>0121/03/20 12:00:00</td>\n",
       "    </tr>\n",
       "    <tr>\n",
       "      <th>3466</th>\n",
       "      <td>3459</td>\n",
       "      <td>Imperial SpaceShuttle</td>\n",
       "      <td>0121/03/20 12:00:00</td>\n",
       "    </tr>\n",
       "  </tbody>\n",
       "</table>\n",
       "<p>3467 rows × 3 columns</p>\n",
       "</div>"
      ],
      "text/plain": [
       "           id                 level2          stream_date\n",
       "0     2524742  Imperial SpaceShuttle  0121/03/20 12:00:00\n",
       "1     2525762  Imperial SpaceShuttle  0121/03/20 12:00:00\n",
       "2     2524782  Imperial SpaceShuttle  0121/03/20 12:00:00\n",
       "3     2524782  Imperial SpaceShuttle  0121/03/20 12:00:00\n",
       "4     2524742  Imperial SpaceShuttle  0121/03/20 12:00:00\n",
       "...       ...                    ...                  ...\n",
       "3462     3455  Imperial SpaceShuttle  0121/04/28 12:00:00\n",
       "3463     3456  Imperial SpaceShuttle  0121/03/20 12:00:00\n",
       "3464     3457  Imperial SpaceShuttle  0121/03/20 12:00:00\n",
       "3465     3458  Imperial SpaceShuttle  0121/03/20 12:00:00\n",
       "3466     3459  Imperial SpaceShuttle  0121/03/20 12:00:00\n",
       "\n",
       "[3467 rows x 3 columns]"
      ]
     },
     "execution_count": 189,
     "metadata": {},
     "output_type": "execute_result"
    }
   ],
   "source": [
    "prop"
   ]
  },
  {
   "cell_type": "markdown",
   "metadata": {},
   "source": [
    "### Investigate duplicates"
   ]
  },
  {
   "cell_type": "code",
   "execution_count": 190,
   "metadata": {},
   "outputs": [],
   "source": [
    "idx_dup = prop[prop['id'].duplicated()].index"
   ]
  },
  {
   "cell_type": "code",
   "execution_count": 191,
   "metadata": {},
   "outputs": [
    {
     "data": {
      "text/html": [
       "<div>\n",
       "<style scoped>\n",
       "    .dataframe tbody tr th:only-of-type {\n",
       "        vertical-align: middle;\n",
       "    }\n",
       "\n",
       "    .dataframe tbody tr th {\n",
       "        vertical-align: top;\n",
       "    }\n",
       "\n",
       "    .dataframe thead th {\n",
       "        text-align: right;\n",
       "    }\n",
       "</style>\n",
       "<table border=\"1\" class=\"dataframe\">\n",
       "  <thead>\n",
       "    <tr style=\"text-align: right;\">\n",
       "      <th></th>\n",
       "      <th>id</th>\n",
       "      <th>level2</th>\n",
       "      <th>stream_date</th>\n",
       "    </tr>\n",
       "  </thead>\n",
       "  <tbody>\n",
       "    <tr>\n",
       "      <th>3</th>\n",
       "      <td>2524782</td>\n",
       "      <td>Imperial SpaceShuttle</td>\n",
       "      <td>0121/03/20 12:00:00</td>\n",
       "    </tr>\n",
       "    <tr>\n",
       "      <th>4</th>\n",
       "      <td>2524742</td>\n",
       "      <td>Imperial SpaceShuttle</td>\n",
       "      <td>0121/03/20 12:00:00</td>\n",
       "    </tr>\n",
       "    <tr>\n",
       "      <th>6</th>\n",
       "      <td>2524782</td>\n",
       "      <td>Imperial SpaceShuttle</td>\n",
       "      <td>0121/03/20 12:00:00</td>\n",
       "    </tr>\n",
       "    <tr>\n",
       "      <th>7</th>\n",
       "      <td>2525762</td>\n",
       "      <td>Imperial SpaceShuttle</td>\n",
       "      <td>0121/03/20 12:00:00</td>\n",
       "    </tr>\n",
       "  </tbody>\n",
       "</table>\n",
       "</div>"
      ],
      "text/plain": [
       "        id                 level2          stream_date\n",
       "3  2524782  Imperial SpaceShuttle  0121/03/20 12:00:00\n",
       "4  2524742  Imperial SpaceShuttle  0121/03/20 12:00:00\n",
       "6  2524782  Imperial SpaceShuttle  0121/03/20 12:00:00\n",
       "7  2525762  Imperial SpaceShuttle  0121/03/20 12:00:00"
      ]
     },
     "execution_count": 191,
     "metadata": {},
     "output_type": "execute_result"
    }
   ],
   "source": [
    "prop[prop['id'].duplicated()]"
   ]
  },
  {
   "cell_type": "markdown",
   "metadata": {},
   "source": [
    "- There are only 4 redundant ids\n",
    "- These are definitely duplicates, since having the same stream_date\n",
    "- The problem is: they correspond to different coordinates"
   ]
  },
  {
   "cell_type": "code",
   "execution_count": 192,
   "metadata": {},
   "outputs": [
    {
     "data": {
      "text/plain": [
       "1"
      ]
     },
     "execution_count": 192,
     "metadata": {},
     "output_type": "execute_result"
    }
   ],
   "source": [
    "geom['type'].nunique()"
   ]
  },
  {
   "cell_type": "code",
   "execution_count": 193,
   "metadata": {},
   "outputs": [],
   "source": [
    "# Drop constant type column\n",
    "geom.drop('type', axis=1, inplace=True)"
   ]
  },
  {
   "cell_type": "code",
   "execution_count": 194,
   "metadata": {},
   "outputs": [],
   "source": [
    "geom['lon'] = geom['coordinates'].apply(lambda x: x[0])\n",
    "geom['lat'] = geom['coordinates'].apply(lambda x: x[1])"
   ]
  },
  {
   "cell_type": "code",
   "execution_count": 195,
   "metadata": {},
   "outputs": [],
   "source": [
    "geom.drop('coordinates', axis=1, inplace=True)\n",
    "coordinates = geom"
   ]
  },
  {
   "cell_type": "code",
   "execution_count": 196,
   "metadata": {},
   "outputs": [
    {
     "data": {
      "text/html": [
       "<div>\n",
       "<style scoped>\n",
       "    .dataframe tbody tr th:only-of-type {\n",
       "        vertical-align: middle;\n",
       "    }\n",
       "\n",
       "    .dataframe tbody tr th {\n",
       "        vertical-align: top;\n",
       "    }\n",
       "\n",
       "    .dataframe thead th {\n",
       "        text-align: right;\n",
       "    }\n",
       "</style>\n",
       "<table border=\"1\" class=\"dataframe\">\n",
       "  <thead>\n",
       "    <tr style=\"text-align: right;\">\n",
       "      <th></th>\n",
       "      <th>lon</th>\n",
       "      <th>lat</th>\n",
       "    </tr>\n",
       "  </thead>\n",
       "  <tbody>\n",
       "    <tr>\n",
       "      <th>3</th>\n",
       "      <td>-19.947907</td>\n",
       "      <td>27.550382</td>\n",
       "    </tr>\n",
       "    <tr>\n",
       "      <th>4</th>\n",
       "      <td>-19.949462</td>\n",
       "      <td>27.550728</td>\n",
       "    </tr>\n",
       "    <tr>\n",
       "      <th>6</th>\n",
       "      <td>-19.947955</td>\n",
       "      <td>27.550847</td>\n",
       "    </tr>\n",
       "    <tr>\n",
       "      <th>7</th>\n",
       "      <td>-19.948944</td>\n",
       "      <td>27.550770</td>\n",
       "    </tr>\n",
       "  </tbody>\n",
       "</table>\n",
       "</div>"
      ],
      "text/plain": [
       "         lon        lat\n",
       "3 -19.947907  27.550382\n",
       "4 -19.949462  27.550728\n",
       "6 -19.947955  27.550847\n",
       "7 -19.948944  27.550770"
      ]
     },
     "execution_count": 196,
     "metadata": {},
     "output_type": "execute_result"
    }
   ],
   "source": [
    "coordinates.iloc[idx_dup]"
   ]
  },
  {
   "cell_type": "markdown",
   "metadata": {},
   "source": [
    "- The duplicated spaceship is indeed at different places at the same time\n",
    "- Since the number of rows (4) is not significant compared to the whole dataset (3467), let's drop these records"
   ]
  },
  {
   "cell_type": "code",
   "execution_count": 197,
   "metadata": {},
   "outputs": [],
   "source": [
    "# Drop duplicated rows\n",
    "prop.drop(idx_dup, axis=0, inplace=True)\n",
    "coordinates.drop(idx_dup, axis=0, inplace=True)"
   ]
  },
  {
   "cell_type": "markdown",
   "metadata": {},
   "source": [
    "- Id is now unique"
   ]
  },
  {
   "cell_type": "markdown",
   "metadata": {},
   "source": [
    "## Merge dataframes"
   ]
  },
  {
   "cell_type": "code",
   "execution_count": 198,
   "metadata": {},
   "outputs": [],
   "source": [
    "# Concat dataframes\n",
    "data = pd.concat([prop, geom], axis=1)"
   ]
  },
  {
   "cell_type": "code",
   "execution_count": 199,
   "metadata": {},
   "outputs": [],
   "source": [
    "# Use id as index (and drop it from the columns)\n",
    "data.set_index('id', drop=True, inplace=True)"
   ]
  },
  {
   "cell_type": "code",
   "execution_count": 200,
   "metadata": {},
   "outputs": [
    {
     "data": {
      "text/plain": [
       "0"
      ]
     },
     "execution_count": 200,
     "metadata": {},
     "output_type": "execute_result"
    }
   ],
   "source": [
    "# Control id is unique\n",
    "sum(data.index.duplicated())"
   ]
  },
  {
   "cell_type": "code",
   "execution_count": 201,
   "metadata": {},
   "outputs": [
    {
     "data": {
      "text/html": [
       "<div>\n",
       "<style scoped>\n",
       "    .dataframe tbody tr th:only-of-type {\n",
       "        vertical-align: middle;\n",
       "    }\n",
       "\n",
       "    .dataframe tbody tr th {\n",
       "        vertical-align: top;\n",
       "    }\n",
       "\n",
       "    .dataframe thead th {\n",
       "        text-align: right;\n",
       "    }\n",
       "</style>\n",
       "<table border=\"1\" class=\"dataframe\">\n",
       "  <thead>\n",
       "    <tr style=\"text-align: right;\">\n",
       "      <th></th>\n",
       "      <th>level2</th>\n",
       "      <th>stream_date</th>\n",
       "      <th>lon</th>\n",
       "      <th>lat</th>\n",
       "    </tr>\n",
       "    <tr>\n",
       "      <th>id</th>\n",
       "      <th></th>\n",
       "      <th></th>\n",
       "      <th></th>\n",
       "      <th></th>\n",
       "    </tr>\n",
       "  </thead>\n",
       "  <tbody>\n",
       "    <tr>\n",
       "      <th>2524742</th>\n",
       "      <td>Imperial SpaceShuttle</td>\n",
       "      <td>0121/03/20 12:00:00</td>\n",
       "      <td>-19.949415</td>\n",
       "      <td>27.550263</td>\n",
       "    </tr>\n",
       "    <tr>\n",
       "      <th>2525762</th>\n",
       "      <td>Imperial SpaceShuttle</td>\n",
       "      <td>0121/03/20 12:00:00</td>\n",
       "      <td>-19.948896</td>\n",
       "      <td>27.550305</td>\n",
       "    </tr>\n",
       "    <tr>\n",
       "      <th>2524782</th>\n",
       "      <td>Imperial SpaceShuttle</td>\n",
       "      <td>0121/03/20 12:00:00</td>\n",
       "      <td>-19.947305</td>\n",
       "      <td>27.550418</td>\n",
       "    </tr>\n",
       "    <tr>\n",
       "      <th>2524752</th>\n",
       "      <td>Imperial SpaceShuttle</td>\n",
       "      <td>0121/03/20 12:00:00</td>\n",
       "      <td>-19.948473</td>\n",
       "      <td>27.550805</td>\n",
       "    </tr>\n",
       "    <tr>\n",
       "      <th>1</th>\n",
       "      <td>TIE Fighter</td>\n",
       "      <td>0118/05/07 12:00:00</td>\n",
       "      <td>-19.950145</td>\n",
       "      <td>27.552059</td>\n",
       "    </tr>\n",
       "    <tr>\n",
       "      <th>...</th>\n",
       "      <td>...</td>\n",
       "      <td>...</td>\n",
       "      <td>...</td>\n",
       "      <td>...</td>\n",
       "    </tr>\n",
       "    <tr>\n",
       "      <th>3455</th>\n",
       "      <td>Imperial SpaceShuttle</td>\n",
       "      <td>0121/04/28 12:00:00</td>\n",
       "      <td>-19.923158</td>\n",
       "      <td>27.523213</td>\n",
       "    </tr>\n",
       "    <tr>\n",
       "      <th>3456</th>\n",
       "      <td>Imperial SpaceShuttle</td>\n",
       "      <td>0121/03/20 12:00:00</td>\n",
       "      <td>-19.916802</td>\n",
       "      <td>27.515392</td>\n",
       "    </tr>\n",
       "    <tr>\n",
       "      <th>3457</th>\n",
       "      <td>Imperial SpaceShuttle</td>\n",
       "      <td>0121/03/20 12:00:00</td>\n",
       "      <td>-19.948425</td>\n",
       "      <td>27.550340</td>\n",
       "    </tr>\n",
       "    <tr>\n",
       "      <th>3458</th>\n",
       "      <td>Imperial SpaceShuttle</td>\n",
       "      <td>0121/03/20 12:00:00</td>\n",
       "      <td>-19.947353</td>\n",
       "      <td>27.550883</td>\n",
       "    </tr>\n",
       "    <tr>\n",
       "      <th>3459</th>\n",
       "      <td>Imperial SpaceShuttle</td>\n",
       "      <td>0121/03/20 12:00:00</td>\n",
       "      <td>-19.916284</td>\n",
       "      <td>27.515434</td>\n",
       "    </tr>\n",
       "  </tbody>\n",
       "</table>\n",
       "<p>3463 rows × 4 columns</p>\n",
       "</div>"
      ],
      "text/plain": [
       "                        level2          stream_date        lon        lat\n",
       "id                                                                       \n",
       "2524742  Imperial SpaceShuttle  0121/03/20 12:00:00 -19.949415  27.550263\n",
       "2525762  Imperial SpaceShuttle  0121/03/20 12:00:00 -19.948896  27.550305\n",
       "2524782  Imperial SpaceShuttle  0121/03/20 12:00:00 -19.947305  27.550418\n",
       "2524752  Imperial SpaceShuttle  0121/03/20 12:00:00 -19.948473  27.550805\n",
       "1                  TIE Fighter  0118/05/07 12:00:00 -19.950145  27.552059\n",
       "...                        ...                  ...        ...        ...\n",
       "3455     Imperial SpaceShuttle  0121/04/28 12:00:00 -19.923158  27.523213\n",
       "3456     Imperial SpaceShuttle  0121/03/20 12:00:00 -19.916802  27.515392\n",
       "3457     Imperial SpaceShuttle  0121/03/20 12:00:00 -19.948425  27.550340\n",
       "3458     Imperial SpaceShuttle  0121/03/20 12:00:00 -19.947353  27.550883\n",
       "3459     Imperial SpaceShuttle  0121/03/20 12:00:00 -19.916284  27.515434\n",
       "\n",
       "[3463 rows x 4 columns]"
      ]
     },
     "execution_count": 201,
     "metadata": {},
     "output_type": "execute_result"
    }
   ],
   "source": [
    "data"
   ]
  },
  {
   "cell_type": "markdown",
   "metadata": {},
   "source": [
    "## To continue"
   ]
  },
  {
   "cell_type": "code",
   "execution_count": 202,
   "metadata": {},
   "outputs": [
    {
     "data": {
      "text/plain": [
       "74"
      ]
     },
     "execution_count": 202,
     "metadata": {},
     "output_type": "execute_result"
    }
   ],
   "source": [
    "# Investigate the number of snapshots\n",
    "data['stream_date'].nunique()"
   ]
  },
  {
   "cell_type": "markdown",
   "metadata": {},
   "source": [
    "### Inspect stream_date"
   ]
  },
  {
   "cell_type": "code",
   "execution_count": 215,
   "metadata": {},
   "outputs": [
    {
     "data": {
      "text/plain": [
       "1"
      ]
     },
     "execution_count": 215,
     "metadata": {},
     "output_type": "execute_result"
    }
   ],
   "source": [
    "# First 2 digits\n",
    "dt_2 = data['stream_date'].apply(lambda x: x[:2])\n",
    "dt_2.nunique()"
   ]
  },
  {
   "cell_type": "markdown",
   "metadata": {},
   "source": [
    "- The first 2 digits are constants, it ca be deleted safely"
   ]
  },
  {
   "cell_type": "code",
   "execution_count": 217,
   "metadata": {},
   "outputs": [],
   "source": [
    "data['stream_date'] = data['stream_date'].apply(lambda x: x[2:])"
   ]
  },
  {
   "cell_type": "code",
   "execution_count": 220,
   "metadata": {},
   "outputs": [],
   "source": [
    "# Extract and cast as datetime\n",
    "dt = pd.to_datetime(data['stream_date'])"
   ]
  },
  {
   "cell_type": "code",
   "execution_count": 225,
   "metadata": {},
   "outputs": [
    {
     "data": {
      "text/plain": [
       "id\n",
       "2249   2001-05-20 12:00:00\n",
       "2277   2001-05-20 12:00:00\n",
       "2276   2001-05-20 12:00:00\n",
       "2275   2001-05-20 12:00:00\n",
       "2274   2001-05-20 12:00:00\n",
       "               ...        \n",
       "1392   2031-07-19 12:00:00\n",
       "1390   2031-07-19 12:00:00\n",
       "1389   2031-07-19 12:00:00\n",
       "1387   2031-07-19 12:00:00\n",
       "1399   2031-07-19 12:00:00\n",
       "Name: stream_date, Length: 3463, dtype: datetime64[ns]"
      ]
     },
     "execution_count": 225,
     "metadata": {},
     "output_type": "execute_result"
    }
   ],
   "source": [
    "dt.sort_values()"
   ]
  },
  {
   "cell_type": "code",
   "execution_count": 229,
   "metadata": {},
   "outputs": [],
   "source": [
    "year = dt.apply(lambda x: x.year)"
   ]
  },
  {
   "cell_type": "code",
   "execution_count": 242,
   "metadata": {},
   "outputs": [
    {
     "data": {
      "text/plain": [
       "<BarContainer object of 29 artists>"
      ]
     },
     "execution_count": 242,
     "metadata": {},
     "output_type": "execute_result"
    },
    {
     "data": {
      "image/png": "[encoded data removed]",
      "text/plain": [
       "<Figure size 432x288 with 1 Axes>"
      ]
     },
     "metadata": {},
     "output_type": "display_data"
    }
   ],
   "source": [
    "year_counts = year.value_counts()\n",
    "plt.bar(year_counts.index, year_counts.values)"
   ]
  },
  {
   "cell_type": "markdown",
   "metadata": {},
   "source": [
    "- The date parsing seems to have been done properly\n",
    "- Use the casted datetime as stream_date field"
   ]
  },
  {
   "cell_type": "code",
   "execution_count": 244,
   "metadata": {},
   "outputs": [],
   "source": [
    "data['stream_date'] = dt"
   ]
  },
  {
   "cell_type": "code",
   "execution_count": 247,
   "metadata": {},
   "outputs": [],
   "source": [
    "data.sort_values('id', inplace=True)"
   ]
  },
  {
   "cell_type": "markdown",
   "metadata": {},
   "source": [
    "- id is coherent with stream_date which further confirms the good date parsing"
   ]
  },
  {
   "cell_type": "code",
   "execution_count": 248,
   "metadata": {},
   "outputs": [
    {
     "data": {
      "text/html": [
       "<div>\n",
       "<style scoped>\n",
       "    .dataframe tbody tr th:only-of-type {\n",
       "        vertical-align: middle;\n",
       "    }\n",
       "\n",
       "    .dataframe tbody tr th {\n",
       "        vertical-align: top;\n",
       "    }\n",
       "\n",
       "    .dataframe thead th {\n",
       "        text-align: right;\n",
       "    }\n",
       "</style>\n",
       "<table border=\"1\" class=\"dataframe\">\n",
       "  <thead>\n",
       "    <tr style=\"text-align: right;\">\n",
       "      <th></th>\n",
       "      <th>level2</th>\n",
       "      <th>stream_date</th>\n",
       "      <th>lon</th>\n",
       "      <th>lat</th>\n",
       "    </tr>\n",
       "    <tr>\n",
       "      <th>id</th>\n",
       "      <th></th>\n",
       "      <th></th>\n",
       "      <th></th>\n",
       "      <th></th>\n",
       "    </tr>\n",
       "  </thead>\n",
       "  <tbody>\n",
       "    <tr>\n",
       "      <th>1</th>\n",
       "      <td>TIE Fighter</td>\n",
       "      <td>2007-05-18 12:00:00</td>\n",
       "      <td>-19.950145</td>\n",
       "      <td>27.552059</td>\n",
       "    </tr>\n",
       "    <tr>\n",
       "      <th>2</th>\n",
       "      <td>TIE bomber</td>\n",
       "      <td>2007-05-18 12:00:00</td>\n",
       "      <td>-19.925915</td>\n",
       "      <td>27.527897</td>\n",
       "    </tr>\n",
       "    <tr>\n",
       "      <th>3</th>\n",
       "      <td>TIE bomber</td>\n",
       "      <td>2007-05-18 12:00:00</td>\n",
       "      <td>-19.927374</td>\n",
       "      <td>27.527464</td>\n",
       "    </tr>\n",
       "    <tr>\n",
       "      <th>4</th>\n",
       "      <td>TIE Fighter</td>\n",
       "      <td>2007-05-18 12:00:00</td>\n",
       "      <td>-19.915460</td>\n",
       "      <td>27.516342</td>\n",
       "    </tr>\n",
       "    <tr>\n",
       "      <th>5</th>\n",
       "      <td>TIE Fighter</td>\n",
       "      <td>2007-05-18 12:00:00</td>\n",
       "      <td>-19.948334</td>\n",
       "      <td>27.557954</td>\n",
       "    </tr>\n",
       "    <tr>\n",
       "      <th>...</th>\n",
       "      <td>...</td>\n",
       "      <td>...</td>\n",
       "      <td>...</td>\n",
       "      <td>...</td>\n",
       "    </tr>\n",
       "    <tr>\n",
       "      <th>3459</th>\n",
       "      <td>Imperial SpaceShuttle</td>\n",
       "      <td>2020-03-21 12:00:00</td>\n",
       "      <td>-19.916284</td>\n",
       "      <td>27.515434</td>\n",
       "    </tr>\n",
       "    <tr>\n",
       "      <th>2524742</th>\n",
       "      <td>Imperial SpaceShuttle</td>\n",
       "      <td>2020-03-21 12:00:00</td>\n",
       "      <td>-19.949415</td>\n",
       "      <td>27.550263</td>\n",
       "    </tr>\n",
       "    <tr>\n",
       "      <th>2524752</th>\n",
       "      <td>Imperial SpaceShuttle</td>\n",
       "      <td>2020-03-21 12:00:00</td>\n",
       "      <td>-19.948473</td>\n",
       "      <td>27.550805</td>\n",
       "    </tr>\n",
       "    <tr>\n",
       "      <th>2524782</th>\n",
       "      <td>Imperial SpaceShuttle</td>\n",
       "      <td>2020-03-21 12:00:00</td>\n",
       "      <td>-19.947305</td>\n",
       "      <td>27.550418</td>\n",
       "    </tr>\n",
       "    <tr>\n",
       "      <th>2525762</th>\n",
       "      <td>Imperial SpaceShuttle</td>\n",
       "      <td>2020-03-21 12:00:00</td>\n",
       "      <td>-19.948896</td>\n",
       "      <td>27.550305</td>\n",
       "    </tr>\n",
       "  </tbody>\n",
       "</table>\n",
       "<p>3463 rows × 4 columns</p>\n",
       "</div>"
      ],
      "text/plain": [
       "                        level2         stream_date        lon        lat\n",
       "id                                                                      \n",
       "1                  TIE Fighter 2007-05-18 12:00:00 -19.950145  27.552059\n",
       "2                   TIE bomber 2007-05-18 12:00:00 -19.925915  27.527897\n",
       "3                   TIE bomber 2007-05-18 12:00:00 -19.927374  27.527464\n",
       "4                  TIE Fighter 2007-05-18 12:00:00 -19.915460  27.516342\n",
       "5                  TIE Fighter 2007-05-18 12:00:00 -19.948334  27.557954\n",
       "...                        ...                 ...        ...        ...\n",
       "3459     Imperial SpaceShuttle 2020-03-21 12:00:00 -19.916284  27.515434\n",
       "2524742  Imperial SpaceShuttle 2020-03-21 12:00:00 -19.949415  27.550263\n",
       "2524752  Imperial SpaceShuttle 2020-03-21 12:00:00 -19.948473  27.550805\n",
       "2524782  Imperial SpaceShuttle 2020-03-21 12:00:00 -19.947305  27.550418\n",
       "2525762  Imperial SpaceShuttle 2020-03-21 12:00:00 -19.948896  27.550305\n",
       "\n",
       "[3463 rows x 4 columns]"
      ]
     },
     "execution_count": 248,
     "metadata": {},
     "output_type": "execute_result"
    }
   ],
   "source": [
    "data"
   ]
  },
  {
   "cell_type": "code",
   "execution_count": null,
   "metadata": {},
   "outputs": [],
   "source": []
  }
 ],
 "metadata": {
  "interpreter": {
   "hash": "6ae9f146fdc49090f2d9ecf90d9e5df7f59010a5a1e27153f99cb03a3b2e84a3"
  },
  "kernelspec": {
   "display_name": "Python 3.9.4 64-bit ('geo': conda)",
   "name": "python3"
  },
  "language_info": {
   "codemirror_mode": {
    "name": "ipython",
    "version": 3
   },
   "file_extension": ".py",
   "mimetype": "text/x-python",
   "name": "python",
   "nbconvert_exporter": "python",
   "pygments_lexer": "ipython3",
   "version": "3.9.4"
  },
  "orig_nbformat": 2
 },
 "nbformat": 4,
 "nbformat_minor": 2
}