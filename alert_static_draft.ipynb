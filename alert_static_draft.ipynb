{
 "cells": [
  {
   "cell_type": "code",
   "execution_count": null,
   "metadata": {},
   "outputs": [],
   "source": []
  }
 ],
 "metadata": {
  "interpreter": {
   "hash": "6ae9f146fdc49090f2d9ecf90d9e5df7f59010a5a1e27153f99cb03a3b2e84a3"
  },
  "kernelspec": {
   "display_name": "Python 3.9.4 64-bit ('geo': conda)",
   "name": "python3"
  },
  "language_info": {
   "name": "python",
   "version": ""
  },
  "orig_nbformat": 2
 },
 "nbformat": 4,
 "nbformat_minor": 2
}