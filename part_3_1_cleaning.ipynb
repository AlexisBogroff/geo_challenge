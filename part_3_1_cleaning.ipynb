{
 "cells": [
  {
   "cell_type": "code",
   "execution_count": 1,
   "metadata": {},
   "outputs": [],
   "source": [
    "import pandas as pd\n",
    "import json\n",
    "import matplotlib.pyplot as plt\n",
    "import seaborn as sns"
   ]
  },
  {
   "cell_type": "code",
   "execution_count": 2,
   "metadata": {},
   "outputs": [],
   "source": [
    "sns.set_theme()"
   ]
  },
  {
   "cell_type": "markdown",
   "metadata": {},
   "source": [
    "## Load data"
   ]
  },
  {
   "cell_type": "code",
   "execution_count": 3,
   "metadata": {},
   "outputs": [],
   "source": [
    "with open('data/starships.geojson') as f:\n",
    "    data = json.load(f)"
   ]
  },
  {
   "cell_type": "markdown",
   "metadata": {},
   "source": [
    "## Drop useless information"
   ]
  },
  {
   "cell_type": "markdown",
   "metadata": {},
   "source": [
    "### Extract from data"
   ]
  },
  {
   "cell_type": "code",
   "execution_count": 4,
   "metadata": {},
   "outputs": [],
   "source": [
    "data = data['features']\n",
    "data = pd.DataFrame(data)"
   ]
  },
  {
   "cell_type": "code",
   "execution_count": 5,
   "metadata": {},
   "outputs": [
    {
     "data": {
      "text/html": [
       "<div>\n",
       "<style scoped>\n",
       "    .dataframe tbody tr th:only-of-type {\n",
       "        vertical-align: middle;\n",
       "    }\n",
       "\n",
       "    .dataframe tbody tr th {\n",
       "        vertical-align: top;\n",
       "    }\n",
       "\n",
       "    .dataframe thead th {\n",
       "        text-align: right;\n",
       "    }\n",
       "</style>\n",
       "<table border=\"1\" class=\"dataframe\">\n",
       "  <thead>\n",
       "    <tr style=\"text-align: right;\">\n",
       "      <th></th>\n",
       "      <th>type</th>\n",
       "      <th>properties</th>\n",
       "      <th>geometry</th>\n",
       "    </tr>\n",
       "  </thead>\n",
       "  <tbody>\n",
       "    <tr>\n",
       "      <th>0</th>\n",
       "      <td>Feature</td>\n",
       "      <td>{'id': 2524742, 'level1': 'Spaceship', 'level2...</td>\n",
       "      <td>{'type': 'Point', 'coordinates': [-19.94941450...</td>\n",
       "    </tr>\n",
       "    <tr>\n",
       "      <th>1</th>\n",
       "      <td>Feature</td>\n",
       "      <td>{'id': 2525762, 'level1': 'Spaceship', 'level2...</td>\n",
       "      <td>{'type': 'Point', 'coordinates': [-19.94889609...</td>\n",
       "    </tr>\n",
       "    <tr>\n",
       "      <th>2</th>\n",
       "      <td>Feature</td>\n",
       "      <td>{'id': 2524782, 'level1': 'Spaceship', 'level2...</td>\n",
       "      <td>{'type': 'Point', 'coordinates': [-19.94730510...</td>\n",
       "    </tr>\n",
       "    <tr>\n",
       "      <th>3</th>\n",
       "      <td>Feature</td>\n",
       "      <td>{'id': 2524782, 'level1': 'Spaceship', 'level2...</td>\n",
       "      <td>{'type': 'Point', 'coordinates': [-19.94790694...</td>\n",
       "    </tr>\n",
       "    <tr>\n",
       "      <th>4</th>\n",
       "      <td>Feature</td>\n",
       "      <td>{'id': 2524742, 'level1': 'Spaceship', 'level2...</td>\n",
       "      <td>{'type': 'Point', 'coordinates': [-19.94946217...</td>\n",
       "    </tr>\n",
       "  </tbody>\n",
       "</table>\n",
       "</div>"
      ],
      "text/plain": [
       "      type                                         properties  \\\n",
       "0  Feature  {'id': 2524742, 'level1': 'Spaceship', 'level2...   \n",
       "1  Feature  {'id': 2525762, 'level1': 'Spaceship', 'level2...   \n",
       "2  Feature  {'id': 2524782, 'level1': 'Spaceship', 'level2...   \n",
       "3  Feature  {'id': 2524782, 'level1': 'Spaceship', 'level2...   \n",
       "4  Feature  {'id': 2524742, 'level1': 'Spaceship', 'level2...   \n",
       "\n",
       "                                            geometry  \n",
       "0  {'type': 'Point', 'coordinates': [-19.94941450...  \n",
       "1  {'type': 'Point', 'coordinates': [-19.94889609...  \n",
       "2  {'type': 'Point', 'coordinates': [-19.94730510...  \n",
       "3  {'type': 'Point', 'coordinates': [-19.94790694...  \n",
       "4  {'type': 'Point', 'coordinates': [-19.94946217...  "
      ]
     },
     "execution_count": 5,
     "metadata": {},
     "output_type": "execute_result"
    }
   ],
   "source": [
    "data.head()"
   ]
  },
  {
   "cell_type": "code",
   "execution_count": 6,
   "metadata": {},
   "outputs": [
    {
     "data": {
      "text/html": [
       "<div>\n",
       "<style scoped>\n",
       "    .dataframe tbody tr th:only-of-type {\n",
       "        vertical-align: middle;\n",
       "    }\n",
       "\n",
       "    .dataframe tbody tr th {\n",
       "        vertical-align: top;\n",
       "    }\n",
       "\n",
       "    .dataframe thead th {\n",
       "        text-align: right;\n",
       "    }\n",
       "</style>\n",
       "<table border=\"1\" class=\"dataframe\">\n",
       "  <thead>\n",
       "    <tr style=\"text-align: right;\">\n",
       "      <th></th>\n",
       "      <th>type</th>\n",
       "      <th>properties</th>\n",
       "      <th>geometry</th>\n",
       "    </tr>\n",
       "  </thead>\n",
       "  <tbody>\n",
       "    <tr>\n",
       "      <th>0</th>\n",
       "      <td>Feature</td>\n",
       "      <td>{'id': 2524742, 'level1': 'Spaceship', 'level2...</td>\n",
       "      <td>{'type': 'Point', 'coordinates': [-19.94941450...</td>\n",
       "    </tr>\n",
       "    <tr>\n",
       "      <th>1</th>\n",
       "      <td>Feature</td>\n",
       "      <td>{'id': 2525762, 'level1': 'Spaceship', 'level2...</td>\n",
       "      <td>{'type': 'Point', 'coordinates': [-19.94889609...</td>\n",
       "    </tr>\n",
       "    <tr>\n",
       "      <th>2</th>\n",
       "      <td>Feature</td>\n",
       "      <td>{'id': 2524782, 'level1': 'Spaceship', 'level2...</td>\n",
       "      <td>{'type': 'Point', 'coordinates': [-19.94730510...</td>\n",
       "    </tr>\n",
       "    <tr>\n",
       "      <th>3</th>\n",
       "      <td>Feature</td>\n",
       "      <td>{'id': 2524782, 'level1': 'Spaceship', 'level2...</td>\n",
       "      <td>{'type': 'Point', 'coordinates': [-19.94790694...</td>\n",
       "    </tr>\n",
       "    <tr>\n",
       "      <th>4</th>\n",
       "      <td>Feature</td>\n",
       "      <td>{'id': 2524742, 'level1': 'Spaceship', 'level2...</td>\n",
       "      <td>{'type': 'Point', 'coordinates': [-19.94946217...</td>\n",
       "    </tr>\n",
       "  </tbody>\n",
       "</table>\n",
       "</div>"
      ],
      "text/plain": [
       "      type                                         properties  \\\n",
       "0  Feature  {'id': 2524742, 'level1': 'Spaceship', 'level2...   \n",
       "1  Feature  {'id': 2525762, 'level1': 'Spaceship', 'level2...   \n",
       "2  Feature  {'id': 2524782, 'level1': 'Spaceship', 'level2...   \n",
       "3  Feature  {'id': 2524782, 'level1': 'Spaceship', 'level2...   \n",
       "4  Feature  {'id': 2524742, 'level1': 'Spaceship', 'level2...   \n",
       "\n",
       "                                            geometry  \n",
       "0  {'type': 'Point', 'coordinates': [-19.94941450...  \n",
       "1  {'type': 'Point', 'coordinates': [-19.94889609...  \n",
       "2  {'type': 'Point', 'coordinates': [-19.94730510...  \n",
       "3  {'type': 'Point', 'coordinates': [-19.94790694...  \n",
       "4  {'type': 'Point', 'coordinates': [-19.94946217...  "
      ]
     },
     "execution_count": 6,
     "metadata": {},
     "output_type": "execute_result"
    }
   ],
   "source": [
    "data.head()"
   ]
  },
  {
   "cell_type": "code",
   "execution_count": 7,
   "metadata": {},
   "outputs": [
    {
     "data": {
      "text/plain": [
       "(3467, 3)"
      ]
     },
     "execution_count": 7,
     "metadata": {},
     "output_type": "execute_result"
    }
   ],
   "source": [
    "data.shape"
   ]
  },
  {
   "cell_type": "code",
   "execution_count": 8,
   "metadata": {},
   "outputs": [
    {
     "data": {
      "text/plain": [
       "{'id': 2524742,\n",
       " 'level1': 'Spaceship',\n",
       " 'level2': 'Imperial SpaceShuttle',\n",
       " 'stream_date': '0121/03/20 12:00:00',\n",
       " 'force_operante': 'Galactic Empire',\n",
       " 'site_type': ['Spaceport']}"
      ]
     },
     "execution_count": 8,
     "metadata": {},
     "output_type": "execute_result"
    }
   ],
   "source": [
    "data['properties'][0]"
   ]
  },
  {
   "cell_type": "code",
   "execution_count": 9,
   "metadata": {},
   "outputs": [
    {
     "data": {
      "text/plain": [
       "{'type': 'Point', 'coordinates': [-19.9494145077604, 27.550263020416665]}"
      ]
     },
     "execution_count": 9,
     "metadata": {},
     "output_type": "execute_result"
    }
   ],
   "source": [
    "data['geometry'][0]"
   ]
  },
  {
   "cell_type": "markdown",
   "metadata": {},
   "source": [
    "### Investigate constants"
   ]
  },
  {
   "cell_type": "code",
   "execution_count": 10,
   "metadata": {},
   "outputs": [
    {
     "name": "stdout",
     "output_type": "stream",
     "text": [
      "1\n"
     ]
    }
   ],
   "source": [
    "# Drop constant type column\n",
    "print(data['type'].nunique())\n",
    "data.drop('type', axis=1, inplace=True)"
   ]
  },
  {
   "cell_type": "code",
   "execution_count": 11,
   "metadata": {},
   "outputs": [],
   "source": [
    "# Create dataframe prop and geom from data\n",
    "prop = data['properties']\n",
    "prop = pd.DataFrame(list(prop))\n",
    "geom = data['geometry']\n",
    "geom = pd.DataFrame(list(geom))"
   ]
  },
  {
   "cell_type": "code",
   "execution_count": 12,
   "metadata": {},
   "outputs": [
    {
     "name": "stdout",
     "output_type": "stream",
     "text": [
      "1\n"
     ]
    }
   ],
   "source": [
    "# Drop level1\n",
    "print(prop['level1'].nunique())\n",
    "prop.drop('level1', axis=1, inplace=True)"
   ]
  },
  {
   "cell_type": "code",
   "execution_count": 13,
   "metadata": {},
   "outputs": [
    {
     "name": "stdout",
     "output_type": "stream",
     "text": [
      "1\n"
     ]
    }
   ],
   "source": [
    "# Drop force_operante\n",
    "print(prop['force_operante'].nunique())\n",
    "prop.drop('force_operante', axis=1, inplace=True)"
   ]
  },
  {
   "cell_type": "code",
   "execution_count": 14,
   "metadata": {},
   "outputs": [
    {
     "name": "stdout",
     "output_type": "stream",
     "text": [
      "(3467, 4)\n",
      "3467\n"
     ]
    }
   ],
   "source": [
    "# Drop site_type\n",
    "print(prop.shape)\n",
    "print(sum(prop['site_type'].apply(lambda x: x==['Spaceport'])))\n",
    "prop.drop('site_type', axis=1, inplace=True)"
   ]
  },
  {
   "cell_type": "markdown",
   "metadata": {},
   "source": [
    "- Since these have the same length, the column site_type is constant\n",
    "- Drop it!"
   ]
  },
  {
   "cell_type": "code",
   "execution_count": 15,
   "metadata": {},
   "outputs": [
    {
     "data": {
      "text/html": [
       "<div>\n",
       "<style scoped>\n",
       "    .dataframe tbody tr th:only-of-type {\n",
       "        vertical-align: middle;\n",
       "    }\n",
       "\n",
       "    .dataframe tbody tr th {\n",
       "        vertical-align: top;\n",
       "    }\n",
       "\n",
       "    .dataframe thead th {\n",
       "        text-align: right;\n",
       "    }\n",
       "</style>\n",
       "<table border=\"1\" class=\"dataframe\">\n",
       "  <thead>\n",
       "    <tr style=\"text-align: right;\">\n",
       "      <th></th>\n",
       "      <th>id</th>\n",
       "      <th>level2</th>\n",
       "      <th>stream_date</th>\n",
       "    </tr>\n",
       "  </thead>\n",
       "  <tbody>\n",
       "    <tr>\n",
       "      <th>0</th>\n",
       "      <td>2524742</td>\n",
       "      <td>Imperial SpaceShuttle</td>\n",
       "      <td>0121/03/20 12:00:00</td>\n",
       "    </tr>\n",
       "    <tr>\n",
       "      <th>1</th>\n",
       "      <td>2525762</td>\n",
       "      <td>Imperial SpaceShuttle</td>\n",
       "      <td>0121/03/20 12:00:00</td>\n",
       "    </tr>\n",
       "    <tr>\n",
       "      <th>2</th>\n",
       "      <td>2524782</td>\n",
       "      <td>Imperial SpaceShuttle</td>\n",
       "      <td>0121/03/20 12:00:00</td>\n",
       "    </tr>\n",
       "    <tr>\n",
       "      <th>3</th>\n",
       "      <td>2524782</td>\n",
       "      <td>Imperial SpaceShuttle</td>\n",
       "      <td>0121/03/20 12:00:00</td>\n",
       "    </tr>\n",
       "    <tr>\n",
       "      <th>4</th>\n",
       "      <td>2524742</td>\n",
       "      <td>Imperial SpaceShuttle</td>\n",
       "      <td>0121/03/20 12:00:00</td>\n",
       "    </tr>\n",
       "    <tr>\n",
       "      <th>...</th>\n",
       "      <td>...</td>\n",
       "      <td>...</td>\n",
       "      <td>...</td>\n",
       "    </tr>\n",
       "    <tr>\n",
       "      <th>3462</th>\n",
       "      <td>3455</td>\n",
       "      <td>Imperial SpaceShuttle</td>\n",
       "      <td>0121/04/28 12:00:00</td>\n",
       "    </tr>\n",
       "    <tr>\n",
       "      <th>3463</th>\n",
       "      <td>3456</td>\n",
       "      <td>Imperial SpaceShuttle</td>\n",
       "      <td>0121/03/20 12:00:00</td>\n",
       "    </tr>\n",
       "    <tr>\n",
       "      <th>3464</th>\n",
       "      <td>3457</td>\n",
       "      <td>Imperial SpaceShuttle</td>\n",
       "      <td>0121/03/20 12:00:00</td>\n",
       "    </tr>\n",
       "    <tr>\n",
       "      <th>3465</th>\n",
       "      <td>3458</td>\n",
       "      <td>Imperial SpaceShuttle</td>\n",
       "      <td>0121/03/20 12:00:00</td>\n",
       "    </tr>\n",
       "    <tr>\n",
       "      <th>3466</th>\n",
       "      <td>3459</td>\n",
       "      <td>Imperial SpaceShuttle</td>\n",
       "      <td>0121/03/20 12:00:00</td>\n",
       "    </tr>\n",
       "  </tbody>\n",
       "</table>\n",
       "<p>3467 rows × 3 columns</p>\n",
       "</div>"
      ],
      "text/plain": [
       "           id                 level2          stream_date\n",
       "0     2524742  Imperial SpaceShuttle  0121/03/20 12:00:00\n",
       "1     2525762  Imperial SpaceShuttle  0121/03/20 12:00:00\n",
       "2     2524782  Imperial SpaceShuttle  0121/03/20 12:00:00\n",
       "3     2524782  Imperial SpaceShuttle  0121/03/20 12:00:00\n",
       "4     2524742  Imperial SpaceShuttle  0121/03/20 12:00:00\n",
       "...       ...                    ...                  ...\n",
       "3462     3455  Imperial SpaceShuttle  0121/04/28 12:00:00\n",
       "3463     3456  Imperial SpaceShuttle  0121/03/20 12:00:00\n",
       "3464     3457  Imperial SpaceShuttle  0121/03/20 12:00:00\n",
       "3465     3458  Imperial SpaceShuttle  0121/03/20 12:00:00\n",
       "3466     3459  Imperial SpaceShuttle  0121/03/20 12:00:00\n",
       "\n",
       "[3467 rows x 3 columns]"
      ]
     },
     "execution_count": 15,
     "metadata": {},
     "output_type": "execute_result"
    }
   ],
   "source": [
    "prop"
   ]
  },
  {
   "cell_type": "markdown",
   "metadata": {},
   "source": [
    "### Investigate duplicates"
   ]
  },
  {
   "cell_type": "code",
   "execution_count": 16,
   "metadata": {},
   "outputs": [],
   "source": [
    "idx_dup = prop[prop['id'].duplicated()].index"
   ]
  },
  {
   "cell_type": "code",
   "execution_count": 17,
   "metadata": {},
   "outputs": [
    {
     "data": {
      "text/html": [
       "<div>\n",
       "<style scoped>\n",
       "    .dataframe tbody tr th:only-of-type {\n",
       "        vertical-align: middle;\n",
       "    }\n",
       "\n",
       "    .dataframe tbody tr th {\n",
       "        vertical-align: top;\n",
       "    }\n",
       "\n",
       "    .dataframe thead th {\n",
       "        text-align: right;\n",
       "    }\n",
       "</style>\n",
       "<table border=\"1\" class=\"dataframe\">\n",
       "  <thead>\n",
       "    <tr style=\"text-align: right;\">\n",
       "      <th></th>\n",
       "      <th>id</th>\n",
       "      <th>level2</th>\n",
       "      <th>stream_date</th>\n",
       "    </tr>\n",
       "  </thead>\n",
       "  <tbody>\n",
       "    <tr>\n",
       "      <th>3</th>\n",
       "      <td>2524782</td>\n",
       "      <td>Imperial SpaceShuttle</td>\n",
       "      <td>0121/03/20 12:00:00</td>\n",
       "    </tr>\n",
       "    <tr>\n",
       "      <th>4</th>\n",
       "      <td>2524742</td>\n",
       "      <td>Imperial SpaceShuttle</td>\n",
       "      <td>0121/03/20 12:00:00</td>\n",
       "    </tr>\n",
       "    <tr>\n",
       "      <th>6</th>\n",
       "      <td>2524782</td>\n",
       "      <td>Imperial SpaceShuttle</td>\n",
       "      <td>0121/03/20 12:00:00</td>\n",
       "    </tr>\n",
       "    <tr>\n",
       "      <th>7</th>\n",
       "      <td>2525762</td>\n",
       "      <td>Imperial SpaceShuttle</td>\n",
       "      <td>0121/03/20 12:00:00</td>\n",
       "    </tr>\n",
       "  </tbody>\n",
       "</table>\n",
       "</div>"
      ],
      "text/plain": [
       "        id                 level2          stream_date\n",
       "3  2524782  Imperial SpaceShuttle  0121/03/20 12:00:00\n",
       "4  2524742  Imperial SpaceShuttle  0121/03/20 12:00:00\n",
       "6  2524782  Imperial SpaceShuttle  0121/03/20 12:00:00\n",
       "7  2525762  Imperial SpaceShuttle  0121/03/20 12:00:00"
      ]
     },
     "execution_count": 17,
     "metadata": {},
     "output_type": "execute_result"
    }
   ],
   "source": [
    "prop[prop['id'].duplicated()]"
   ]
  },
  {
   "cell_type": "markdown",
   "metadata": {},
   "source": [
    "- There are only 4 redundant ids\n",
    "- These are definitely duplicates, since having the same stream_date\n",
    "- The problem is: they correspond to different coordinates"
   ]
  },
  {
   "cell_type": "code",
   "execution_count": 18,
   "metadata": {},
   "outputs": [
    {
     "data": {
      "text/plain": [
       "1"
      ]
     },
     "execution_count": 18,
     "metadata": {},
     "output_type": "execute_result"
    }
   ],
   "source": [
    "geom['type'].nunique()"
   ]
  },
  {
   "cell_type": "code",
   "execution_count": 19,
   "metadata": {},
   "outputs": [],
   "source": [
    "# Drop constant type column\n",
    "geom.drop('type', axis=1, inplace=True)"
   ]
  },
  {
   "cell_type": "code",
   "execution_count": 20,
   "metadata": {},
   "outputs": [],
   "source": [
    "geom['lon'] = geom['coordinates'].apply(lambda x: x[0])\n",
    "geom['lat'] = geom['coordinates'].apply(lambda x: x[1])"
   ]
  },
  {
   "cell_type": "code",
   "execution_count": 21,
   "metadata": {},
   "outputs": [],
   "source": [
    "geom.drop('coordinates', axis=1, inplace=True)\n",
    "coordinates = geom"
   ]
  },
  {
   "cell_type": "code",
   "execution_count": 22,
   "metadata": {},
   "outputs": [
    {
     "data": {
      "text/html": [
       "<div>\n",
       "<style scoped>\n",
       "    .dataframe tbody tr th:only-of-type {\n",
       "        vertical-align: middle;\n",
       "    }\n",
       "\n",
       "    .dataframe tbody tr th {\n",
       "        vertical-align: top;\n",
       "    }\n",
       "\n",
       "    .dataframe thead th {\n",
       "        text-align: right;\n",
       "    }\n",
       "</style>\n",
       "<table border=\"1\" class=\"dataframe\">\n",
       "  <thead>\n",
       "    <tr style=\"text-align: right;\">\n",
       "      <th></th>\n",
       "      <th>lon</th>\n",
       "      <th>lat</th>\n",
       "    </tr>\n",
       "  </thead>\n",
       "  <tbody>\n",
       "    <tr>\n",
       "      <th>3</th>\n",
       "      <td>-19.947907</td>\n",
       "      <td>27.550382</td>\n",
       "    </tr>\n",
       "    <tr>\n",
       "      <th>4</th>\n",
       "      <td>-19.949462</td>\n",
       "      <td>27.550728</td>\n",
       "    </tr>\n",
       "    <tr>\n",
       "      <th>6</th>\n",
       "      <td>-19.947955</td>\n",
       "      <td>27.550847</td>\n",
       "    </tr>\n",
       "    <tr>\n",
       "      <th>7</th>\n",
       "      <td>-19.948944</td>\n",
       "      <td>27.550770</td>\n",
       "    </tr>\n",
       "  </tbody>\n",
       "</table>\n",
       "</div>"
      ],
      "text/plain": [
       "         lon        lat\n",
       "3 -19.947907  27.550382\n",
       "4 -19.949462  27.550728\n",
       "6 -19.947955  27.550847\n",
       "7 -19.948944  27.550770"
      ]
     },
     "execution_count": 22,
     "metadata": {},
     "output_type": "execute_result"
    }
   ],
   "source": [
    "coordinates.iloc[idx_dup]"
   ]
  },
  {
   "cell_type": "markdown",
   "metadata": {},
   "source": [
    "- The duplicated spaceship is indeed at different places at the same time\n",
    "- Since the number of rows (4) is not significant compared to the whole dataset (3467), let's drop these records"
   ]
  },
  {
   "cell_type": "code",
   "execution_count": 23,
   "metadata": {},
   "outputs": [],
   "source": [
    "# Drop duplicated rows\n",
    "prop.drop(idx_dup, axis=0, inplace=True)\n",
    "coordinates.drop(idx_dup, axis=0, inplace=True)"
   ]
  },
  {
   "cell_type": "markdown",
   "metadata": {},
   "source": [
    "- Id is now unique"
   ]
  },
  {
   "cell_type": "markdown",
   "metadata": {},
   "source": [
    "## Merge dataframes"
   ]
  },
  {
   "cell_type": "code",
   "execution_count": 24,
   "metadata": {},
   "outputs": [],
   "source": [
    "# Concat dataframes\n",
    "data = pd.concat([prop, geom], axis=1)"
   ]
  },
  {
   "cell_type": "code",
   "execution_count": 25,
   "metadata": {},
   "outputs": [],
   "source": [
    "# Use id as index (and drop it from the columns)\n",
    "data.set_index('id', drop=True, inplace=True)"
   ]
  },
  {
   "cell_type": "code",
   "execution_count": 26,
   "metadata": {},
   "outputs": [
    {
     "data": {
      "text/plain": [
       "0"
      ]
     },
     "execution_count": 26,
     "metadata": {},
     "output_type": "execute_result"
    }
   ],
   "source": [
    "# Control id is unique\n",
    "sum(data.index.duplicated())"
   ]
  },
  {
   "cell_type": "code",
   "execution_count": 27,
   "metadata": {},
   "outputs": [
    {
     "data": {
      "text/html": [
       "<div>\n",
       "<style scoped>\n",
       "    .dataframe tbody tr th:only-of-type {\n",
       "        vertical-align: middle;\n",
       "    }\n",
       "\n",
       "    .dataframe tbody tr th {\n",
       "        vertical-align: top;\n",
       "    }\n",
       "\n",
       "    .dataframe thead th {\n",
       "        text-align: right;\n",
       "    }\n",
       "</style>\n",
       "<table border=\"1\" class=\"dataframe\">\n",
       "  <thead>\n",
       "    <tr style=\"text-align: right;\">\n",
       "      <th></th>\n",
       "      <th>level2</th>\n",
       "      <th>stream_date</th>\n",
       "      <th>lon</th>\n",
       "      <th>lat</th>\n",
       "    </tr>\n",
       "    <tr>\n",
       "      <th>id</th>\n",
       "      <th></th>\n",
       "      <th></th>\n",
       "      <th></th>\n",
       "      <th></th>\n",
       "    </tr>\n",
       "  </thead>\n",
       "  <tbody>\n",
       "    <tr>\n",
       "      <th>2524742</th>\n",
       "      <td>Imperial SpaceShuttle</td>\n",
       "      <td>0121/03/20 12:00:00</td>\n",
       "      <td>-19.949415</td>\n",
       "      <td>27.550263</td>\n",
       "    </tr>\n",
       "    <tr>\n",
       "      <th>2525762</th>\n",
       "      <td>Imperial SpaceShuttle</td>\n",
       "      <td>0121/03/20 12:00:00</td>\n",
       "      <td>-19.948896</td>\n",
       "      <td>27.550305</td>\n",
       "    </tr>\n",
       "    <tr>\n",
       "      <th>2524782</th>\n",
       "      <td>Imperial SpaceShuttle</td>\n",
       "      <td>0121/03/20 12:00:00</td>\n",
       "      <td>-19.947305</td>\n",
       "      <td>27.550418</td>\n",
       "    </tr>\n",
       "    <tr>\n",
       "      <th>2524752</th>\n",
       "      <td>Imperial SpaceShuttle</td>\n",
       "      <td>0121/03/20 12:00:00</td>\n",
       "      <td>-19.948473</td>\n",
       "      <td>27.550805</td>\n",
       "    </tr>\n",
       "    <tr>\n",
       "      <th>1</th>\n",
       "      <td>TIE Fighter</td>\n",
       "      <td>0118/05/07 12:00:00</td>\n",
       "      <td>-19.950145</td>\n",
       "      <td>27.552059</td>\n",
       "    </tr>\n",
       "    <tr>\n",
       "      <th>...</th>\n",
       "      <td>...</td>\n",
       "      <td>...</td>\n",
       "      <td>...</td>\n",
       "      <td>...</td>\n",
       "    </tr>\n",
       "    <tr>\n",
       "      <th>3455</th>\n",
       "      <td>Imperial SpaceShuttle</td>\n",
       "      <td>0121/04/28 12:00:00</td>\n",
       "      <td>-19.923158</td>\n",
       "      <td>27.523213</td>\n",
       "    </tr>\n",
       "    <tr>\n",
       "      <th>3456</th>\n",
       "      <td>Imperial SpaceShuttle</td>\n",
       "      <td>0121/03/20 12:00:00</td>\n",
       "      <td>-19.916802</td>\n",
       "      <td>27.515392</td>\n",
       "    </tr>\n",
       "    <tr>\n",
       "      <th>3457</th>\n",
       "      <td>Imperial SpaceShuttle</td>\n",
       "      <td>0121/03/20 12:00:00</td>\n",
       "      <td>-19.948425</td>\n",
       "      <td>27.550340</td>\n",
       "    </tr>\n",
       "    <tr>\n",
       "      <th>3458</th>\n",
       "      <td>Imperial SpaceShuttle</td>\n",
       "      <td>0121/03/20 12:00:00</td>\n",
       "      <td>-19.947353</td>\n",
       "      <td>27.550883</td>\n",
       "    </tr>\n",
       "    <tr>\n",
       "      <th>3459</th>\n",
       "      <td>Imperial SpaceShuttle</td>\n",
       "      <td>0121/03/20 12:00:00</td>\n",
       "      <td>-19.916284</td>\n",
       "      <td>27.515434</td>\n",
       "    </tr>\n",
       "  </tbody>\n",
       "</table>\n",
       "<p>3463 rows × 4 columns</p>\n",
       "</div>"
      ],
      "text/plain": [
       "                        level2          stream_date        lon        lat\n",
       "id                                                                       \n",
       "2524742  Imperial SpaceShuttle  0121/03/20 12:00:00 -19.949415  27.550263\n",
       "2525762  Imperial SpaceShuttle  0121/03/20 12:00:00 -19.948896  27.550305\n",
       "2524782  Imperial SpaceShuttle  0121/03/20 12:00:00 -19.947305  27.550418\n",
       "2524752  Imperial SpaceShuttle  0121/03/20 12:00:00 -19.948473  27.550805\n",
       "1                  TIE Fighter  0118/05/07 12:00:00 -19.950145  27.552059\n",
       "...                        ...                  ...        ...        ...\n",
       "3455     Imperial SpaceShuttle  0121/04/28 12:00:00 -19.923158  27.523213\n",
       "3456     Imperial SpaceShuttle  0121/03/20 12:00:00 -19.916802  27.515392\n",
       "3457     Imperial SpaceShuttle  0121/03/20 12:00:00 -19.948425  27.550340\n",
       "3458     Imperial SpaceShuttle  0121/03/20 12:00:00 -19.947353  27.550883\n",
       "3459     Imperial SpaceShuttle  0121/03/20 12:00:00 -19.916284  27.515434\n",
       "\n",
       "[3463 rows x 4 columns]"
      ]
     },
     "execution_count": 27,
     "metadata": {},
     "output_type": "execute_result"
    }
   ],
   "source": [
    "data"
   ]
  },
  {
   "cell_type": "markdown",
   "metadata": {},
   "source": [
    "## To continue"
   ]
  },
  {
   "cell_type": "code",
   "execution_count": 28,
   "metadata": {},
   "outputs": [
    {
     "data": {
      "text/plain": [
       "74"
      ]
     },
     "execution_count": 28,
     "metadata": {},
     "output_type": "execute_result"
    }
   ],
   "source": [
    "# Investigate the number of snapshots\n",
    "data['stream_date'].nunique()"
   ]
  },
  {
   "cell_type": "markdown",
   "metadata": {},
   "source": [
    "### Inspect stream_date"
   ]
  },
  {
   "cell_type": "code",
   "execution_count": 29,
   "metadata": {},
   "outputs": [
    {
     "data": {
      "text/plain": [
       "1"
      ]
     },
     "execution_count": 29,
     "metadata": {},
     "output_type": "execute_result"
    }
   ],
   "source": [
    "# First 2 digits\n",
    "dt_2 = data['stream_date'].apply(lambda x: x[:2])\n",
    "dt_2.nunique()"
   ]
  },
  {
   "cell_type": "markdown",
   "metadata": {},
   "source": [
    "- The first 2 digits are constants, it ca be deleted safely"
   ]
  },
  {
   "cell_type": "code",
   "execution_count": 30,
   "metadata": {},
   "outputs": [],
   "source": [
    "data['stream_date'] = data['stream_date'].apply(lambda x: x[2:])"
   ]
  },
  {
   "cell_type": "code",
   "execution_count": 31,
   "metadata": {},
   "outputs": [
    {
     "data": {
      "text/plain": [
       "id\n",
       "2524742    21/03/20 12:00:00\n",
       "2525762    21/03/20 12:00:00\n",
       "2524782    21/03/20 12:00:00\n",
       "2524752    21/03/20 12:00:00\n",
       "1          18/05/07 12:00:00\n",
       "                 ...        \n",
       "3455       21/04/28 12:00:00\n",
       "3456       21/03/20 12:00:00\n",
       "3457       21/03/20 12:00:00\n",
       "3458       21/03/20 12:00:00\n",
       "3459       21/03/20 12:00:00\n",
       "Name: stream_date, Length: 3463, dtype: object"
      ]
     },
     "execution_count": 31,
     "metadata": {},
     "output_type": "execute_result"
    }
   ],
   "source": [
    "data['stream_date']"
   ]
  },
  {
   "cell_type": "code",
   "execution_count": 32,
   "metadata": {},
   "outputs": [],
   "source": [
    "# Extract and cast as datetime\n",
    "# It automatically picked %d/%m/%y, but was wrong (thanks to long investigation)!\n",
    "dt = pd.to_datetime(data['stream_date'], format='%y/%m/%d %H:%M:%S')"
   ]
  },
  {
   "cell_type": "code",
   "execution_count": 33,
   "metadata": {},
   "outputs": [
    {
     "data": {
      "text/plain": [
       "id\n",
       "29     2018-05-07 12:00:00\n",
       "23     2018-05-07 12:00:00\n",
       "24     2018-05-07 12:00:00\n",
       "25     2018-05-07 12:00:00\n",
       "26     2018-05-07 12:00:00\n",
       "               ...        \n",
       "3423   2021-04-28 12:00:00\n",
       "3424   2021-04-28 12:00:00\n",
       "3425   2021-04-28 12:00:00\n",
       "3410   2021-04-28 12:00:00\n",
       "3414   2021-04-28 12:00:00\n",
       "Name: stream_date, Length: 3463, dtype: datetime64[ns]"
      ]
     },
     "execution_count": 33,
     "metadata": {},
     "output_type": "execute_result"
    }
   ],
   "source": [
    "dt.sort_values()"
   ]
  },
  {
   "cell_type": "code",
   "execution_count": 34,
   "metadata": {},
   "outputs": [],
   "source": [
    "year = dt.apply(lambda x: x.year)"
   ]
  },
  {
   "cell_type": "code",
   "execution_count": 35,
   "metadata": {},
   "outputs": [
    {
     "data": {
      "text/plain": [
       "4"
      ]
     },
     "execution_count": 35,
     "metadata": {},
     "output_type": "execute_result"
    }
   ],
   "source": [
    "# 29 different years\n",
    "year.nunique()"
   ]
  },
  {
   "cell_type": "code",
   "execution_count": 36,
   "metadata": {},
   "outputs": [
    {
     "data": {
      "text/plain": [
       "Text(0.5, 1.0, 'Year')"
      ]
     },
     "execution_count": 36,
     "metadata": {},
     "output_type": "execute_result"
    },
    {
     "data": {
      "image/png": "[encoded data removed]",
      "text/plain": [
       "<Figure size 648x432 with 1 Axes>"
      ]
     },
     "metadata": {},
     "output_type": "display_data"
    }
   ],
   "source": [
    "plt.figure(figsize=(9, 6))\n",
    "year_counts = year.value_counts()\n",
    "plt.bar(year_counts.index, year_counts.values)\n",
    "plt.title('Year')"
   ]
  },
  {
   "cell_type": "markdown",
   "metadata": {},
   "source": [
    "- The date parsing seems to have been done properly\n",
    "- Use the casted datetime as stream_date field"
   ]
  },
  {
   "cell_type": "code",
   "execution_count": 37,
   "metadata": {},
   "outputs": [
    {
     "name": "stdout",
     "output_type": "stream",
     "text": [
      "1\n",
      "1\n",
      "1\n"
     ]
    }
   ],
   "source": [
    "# Inspect hours, mintues, seconds\n",
    "print(dt.apply(lambda x: x.hour).nunique())\n",
    "print(dt.apply(lambda x: x.minute).nunique())\n",
    "print(dt.apply(lambda x: x.second).nunique())"
   ]
  },
  {
   "cell_type": "markdown",
   "metadata": {},
   "source": [
    "- Hours, minutes and seconds are irrelevant (constant)"
   ]
  },
  {
   "cell_type": "code",
   "execution_count": 38,
   "metadata": {},
   "outputs": [],
   "source": [
    "data['stream_date'] = dt"
   ]
  },
  {
   "cell_type": "code",
   "execution_count": 39,
   "metadata": {},
   "outputs": [],
   "source": [
    "data.sort_values('id', inplace=True)"
   ]
  },
  {
   "cell_type": "code",
   "execution_count": 40,
   "metadata": {},
   "outputs": [
    {
     "data": {
      "text/plain": [
       "<matplotlib.collections.PathCollection at 0x1461b30a0>"
      ]
     },
     "execution_count": 40,
     "metadata": {},
     "output_type": "execute_result"
    },
    {
     "data": {
      "image/png": "[encoded data removed]",
      "text/plain": [
       "<Figure size 432x288 with 1 Axes>"
      ]
     },
     "metadata": {},
     "output_type": "display_data"
    }
   ],
   "source": [
    "plt.scatter(data.index[:-4], data['stream_date'].iloc[:-4])"
   ]
  },
  {
   "cell_type": "markdown",
   "metadata": {},
   "source": [
    "- id is now coherent with stream_date"
   ]
  },
  {
   "cell_type": "code",
   "execution_count": 43,
   "metadata": {},
   "outputs": [
    {
     "data": {
      "text/html": [
       "<div>\n",
       "<style scoped>\n",
       "    .dataframe tbody tr th:only-of-type {\n",
       "        vertical-align: middle;\n",
       "    }\n",
       "\n",
       "    .dataframe tbody tr th {\n",
       "        vertical-align: top;\n",
       "    }\n",
       "\n",
       "    .dataframe thead th {\n",
       "        text-align: right;\n",
       "    }\n",
       "</style>\n",
       "<table border=\"1\" class=\"dataframe\">\n",
       "  <thead>\n",
       "    <tr style=\"text-align: right;\">\n",
       "      <th></th>\n",
       "      <th>ship_type</th>\n",
       "      <th>date</th>\n",
       "      <th>lon</th>\n",
       "      <th>lat</th>\n",
       "    </tr>\n",
       "    <tr>\n",
       "      <th>id</th>\n",
       "      <th></th>\n",
       "      <th></th>\n",
       "      <th></th>\n",
       "      <th></th>\n",
       "    </tr>\n",
       "  </thead>\n",
       "  <tbody>\n",
       "    <tr>\n",
       "      <th>1</th>\n",
       "      <td>TIE Fighter</td>\n",
       "      <td>2018-05-07 12:00:00</td>\n",
       "      <td>-19.950145</td>\n",
       "      <td>27.552059</td>\n",
       "    </tr>\n",
       "    <tr>\n",
       "      <th>2</th>\n",
       "      <td>TIE bomber</td>\n",
       "      <td>2018-05-07 12:00:00</td>\n",
       "      <td>-19.925915</td>\n",
       "      <td>27.527897</td>\n",
       "    </tr>\n",
       "    <tr>\n",
       "      <th>3</th>\n",
       "      <td>TIE bomber</td>\n",
       "      <td>2018-05-07 12:00:00</td>\n",
       "      <td>-19.927374</td>\n",
       "      <td>27.527464</td>\n",
       "    </tr>\n",
       "    <tr>\n",
       "      <th>4</th>\n",
       "      <td>TIE Fighter</td>\n",
       "      <td>2018-05-07 12:00:00</td>\n",
       "      <td>-19.915460</td>\n",
       "      <td>27.516342</td>\n",
       "    </tr>\n",
       "    <tr>\n",
       "      <th>5</th>\n",
       "      <td>TIE Fighter</td>\n",
       "      <td>2018-05-07 12:00:00</td>\n",
       "      <td>-19.948334</td>\n",
       "      <td>27.557954</td>\n",
       "    </tr>\n",
       "    <tr>\n",
       "      <th>...</th>\n",
       "      <td>...</td>\n",
       "      <td>...</td>\n",
       "      <td>...</td>\n",
       "      <td>...</td>\n",
       "    </tr>\n",
       "    <tr>\n",
       "      <th>3459</th>\n",
       "      <td>Imperial SpaceShuttle</td>\n",
       "      <td>2021-03-20 12:00:00</td>\n",
       "      <td>-19.916284</td>\n",
       "      <td>27.515434</td>\n",
       "    </tr>\n",
       "    <tr>\n",
       "      <th>2524742</th>\n",
       "      <td>Imperial SpaceShuttle</td>\n",
       "      <td>2021-03-20 12:00:00</td>\n",
       "      <td>-19.949415</td>\n",
       "      <td>27.550263</td>\n",
       "    </tr>\n",
       "    <tr>\n",
       "      <th>2524752</th>\n",
       "      <td>Imperial SpaceShuttle</td>\n",
       "      <td>2021-03-20 12:00:00</td>\n",
       "      <td>-19.948473</td>\n",
       "      <td>27.550805</td>\n",
       "    </tr>\n",
       "    <tr>\n",
       "      <th>2524782</th>\n",
       "      <td>Imperial SpaceShuttle</td>\n",
       "      <td>2021-03-20 12:00:00</td>\n",
       "      <td>-19.947305</td>\n",
       "      <td>27.550418</td>\n",
       "    </tr>\n",
       "    <tr>\n",
       "      <th>2525762</th>\n",
       "      <td>Imperial SpaceShuttle</td>\n",
       "      <td>2021-03-20 12:00:00</td>\n",
       "      <td>-19.948896</td>\n",
       "      <td>27.550305</td>\n",
       "    </tr>\n",
       "  </tbody>\n",
       "</table>\n",
       "<p>3463 rows × 4 columns</p>\n",
       "</div>"
      ],
      "text/plain": [
       "                     ship_type                date        lon        lat\n",
       "id                                                                      \n",
       "1                  TIE Fighter 2018-05-07 12:00:00 -19.950145  27.552059\n",
       "2                   TIE bomber 2018-05-07 12:00:00 -19.925915  27.527897\n",
       "3                   TIE bomber 2018-05-07 12:00:00 -19.927374  27.527464\n",
       "4                  TIE Fighter 2018-05-07 12:00:00 -19.915460  27.516342\n",
       "5                  TIE Fighter 2018-05-07 12:00:00 -19.948334  27.557954\n",
       "...                        ...                 ...        ...        ...\n",
       "3459     Imperial SpaceShuttle 2021-03-20 12:00:00 -19.916284  27.515434\n",
       "2524742  Imperial SpaceShuttle 2021-03-20 12:00:00 -19.949415  27.550263\n",
       "2524752  Imperial SpaceShuttle 2021-03-20 12:00:00 -19.948473  27.550805\n",
       "2524782  Imperial SpaceShuttle 2021-03-20 12:00:00 -19.947305  27.550418\n",
       "2525762  Imperial SpaceShuttle 2021-03-20 12:00:00 -19.948896  27.550305\n",
       "\n",
       "[3463 rows x 4 columns]"
      ]
     },
     "execution_count": 43,
     "metadata": {},
     "output_type": "execute_result"
    }
   ],
   "source": [
    "# Rename columns\n",
    "data.rename(columns={'stream_date': 'date'}, inplace=True)\n",
    "data.rename(columns={'level2': 'ship_type'}, inplace=True)\n",
    "data"
   ]
  },
  {
   "cell_type": "code",
   "execution_count": 42,
   "metadata": {},
   "outputs": [],
   "source": [
    "data.to_csv('data/starships.csv')"
   ]
  }
 ],
 "metadata": {
  "interpreter": {
   "hash": "6ae9f146fdc49090f2d9ecf90d9e5df7f59010a5a1e27153f99cb03a3b2e84a3"
  },
  "kernelspec": {
   "display_name": "Python 3.9.4 64-bit ('geo': conda)",
   "name": "python3"
  },
  "language_info": {
   "codemirror_mode": {
    "name": "ipython",
    "version": 3
   },
   "file_extension": ".py",
   "mimetype": "text/x-python",
   "name": "python",
   "nbconvert_exporter": "python",
   "pygments_lexer": "ipython3",
   "version": "3.9.4"
  },
  "orig_nbformat": 2
 },
 "nbformat": 4,
 "nbformat_minor": 2
}