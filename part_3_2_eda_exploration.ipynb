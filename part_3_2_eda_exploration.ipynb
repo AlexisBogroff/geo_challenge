{
 "cells": [
  {
   "cell_type": "code",
   "execution_count": 1,
   "metadata": {},
   "outputs": [],
   "source": [
    "import pandas as pd\n",
    "import matplotlib.pyplot as plt\n",
    "import seaborn as sns"
   ]
  },
  {
   "cell_type": "code",
   "execution_count": 13,
   "metadata": {},
   "outputs": [],
   "source": [
    "sns.set_theme()"
   ]
  },
  {
   "cell_type": "markdown",
   "metadata": {},
   "source": [
    "## Load data"
   ]
  },
  {
   "cell_type": "code",
   "execution_count": 5,
   "metadata": {},
   "outputs": [],
   "source": [
    "data = pd.read_csv('data/starships_clean.csv', index_col='id')"
   ]
  },
  {
   "cell_type": "code",
   "execution_count": 10,
   "metadata": {},
   "outputs": [],
   "source": [
    "# Cast again date\n",
    "data['stream_date'] = pd.to_datetime(data['stream_date'])"
   ]
  },
  {
   "cell_type": "code",
   "execution_count": 34,
   "metadata": {},
   "outputs": [],
   "source": [
    "# Rename column\n",
    "data.rename(columns={'level2': 'ship_type'}, inplace=True)\n",
    "data.rename(columns={'stream_date': 'date'}, inplace=True)"
   ]
  },
  {
   "cell_type": "markdown",
   "metadata": {},
   "source": [
    "## Explore"
   ]
  },
  {
   "cell_type": "code",
   "execution_count": 39,
   "metadata": {},
   "outputs": [
    {
     "data": {
      "text/html": [
       "<div>\n",
       "<style scoped>\n",
       "    .dataframe tbody tr th:only-of-type {\n",
       "        vertical-align: middle;\n",
       "    }\n",
       "\n",
       "    .dataframe tbody tr th {\n",
       "        vertical-align: top;\n",
       "    }\n",
       "\n",
       "    .dataframe thead th {\n",
       "        text-align: right;\n",
       "    }\n",
       "</style>\n",
       "<table border=\"1\" class=\"dataframe\">\n",
       "  <thead>\n",
       "    <tr style=\"text-align: right;\">\n",
       "      <th></th>\n",
       "      <th>ship_type</th>\n",
       "      <th>date</th>\n",
       "      <th>lon</th>\n",
       "      <th>lat</th>\n",
       "    </tr>\n",
       "    <tr>\n",
       "      <th>id</th>\n",
       "      <th></th>\n",
       "      <th></th>\n",
       "      <th></th>\n",
       "      <th></th>\n",
       "    </tr>\n",
       "  </thead>\n",
       "  <tbody>\n",
       "    <tr>\n",
       "      <th>1</th>\n",
       "      <td>TIE Fighter</td>\n",
       "      <td>2007-05-18 12:00:00</td>\n",
       "      <td>-19.950145</td>\n",
       "      <td>27.552059</td>\n",
       "    </tr>\n",
       "    <tr>\n",
       "      <th>2</th>\n",
       "      <td>TIE bomber</td>\n",
       "      <td>2007-05-18 12:00:00</td>\n",
       "      <td>-19.925915</td>\n",
       "      <td>27.527897</td>\n",
       "    </tr>\n",
       "    <tr>\n",
       "      <th>3</th>\n",
       "      <td>TIE bomber</td>\n",
       "      <td>2007-05-18 12:00:00</td>\n",
       "      <td>-19.927374</td>\n",
       "      <td>27.527464</td>\n",
       "    </tr>\n",
       "    <tr>\n",
       "      <th>4</th>\n",
       "      <td>TIE Fighter</td>\n",
       "      <td>2007-05-18 12:00:00</td>\n",
       "      <td>-19.915460</td>\n",
       "      <td>27.516342</td>\n",
       "    </tr>\n",
       "    <tr>\n",
       "      <th>5</th>\n",
       "      <td>TIE Fighter</td>\n",
       "      <td>2007-05-18 12:00:00</td>\n",
       "      <td>-19.948334</td>\n",
       "      <td>27.557954</td>\n",
       "    </tr>\n",
       "    <tr>\n",
       "      <th>...</th>\n",
       "      <td>...</td>\n",
       "      <td>...</td>\n",
       "      <td>...</td>\n",
       "      <td>...</td>\n",
       "    </tr>\n",
       "    <tr>\n",
       "      <th>3459</th>\n",
       "      <td>Imperial SpaceShuttle</td>\n",
       "      <td>2020-03-21 12:00:00</td>\n",
       "      <td>-19.916284</td>\n",
       "      <td>27.515434</td>\n",
       "    </tr>\n",
       "    <tr>\n",
       "      <th>2524742</th>\n",
       "      <td>Imperial SpaceShuttle</td>\n",
       "      <td>2020-03-21 12:00:00</td>\n",
       "      <td>-19.949415</td>\n",
       "      <td>27.550263</td>\n",
       "    </tr>\n",
       "    <tr>\n",
       "      <th>2524752</th>\n",
       "      <td>Imperial SpaceShuttle</td>\n",
       "      <td>2020-03-21 12:00:00</td>\n",
       "      <td>-19.948473</td>\n",
       "      <td>27.550805</td>\n",
       "    </tr>\n",
       "    <tr>\n",
       "      <th>2524782</th>\n",
       "      <td>Imperial SpaceShuttle</td>\n",
       "      <td>2020-03-21 12:00:00</td>\n",
       "      <td>-19.947305</td>\n",
       "      <td>27.550418</td>\n",
       "    </tr>\n",
       "    <tr>\n",
       "      <th>2525762</th>\n",
       "      <td>Imperial SpaceShuttle</td>\n",
       "      <td>2020-03-21 12:00:00</td>\n",
       "      <td>-19.948896</td>\n",
       "      <td>27.550305</td>\n",
       "    </tr>\n",
       "  </tbody>\n",
       "</table>\n",
       "<p>3463 rows × 4 columns</p>\n",
       "</div>"
      ],
      "text/plain": [
       "                     ship_type                date        lon        lat\n",
       "id                                                                      \n",
       "1                  TIE Fighter 2007-05-18 12:00:00 -19.950145  27.552059\n",
       "2                   TIE bomber 2007-05-18 12:00:00 -19.925915  27.527897\n",
       "3                   TIE bomber 2007-05-18 12:00:00 -19.927374  27.527464\n",
       "4                  TIE Fighter 2007-05-18 12:00:00 -19.915460  27.516342\n",
       "5                  TIE Fighter 2007-05-18 12:00:00 -19.948334  27.557954\n",
       "...                        ...                 ...        ...        ...\n",
       "3459     Imperial SpaceShuttle 2020-03-21 12:00:00 -19.916284  27.515434\n",
       "2524742  Imperial SpaceShuttle 2020-03-21 12:00:00 -19.949415  27.550263\n",
       "2524752  Imperial SpaceShuttle 2020-03-21 12:00:00 -19.948473  27.550805\n",
       "2524782  Imperial SpaceShuttle 2020-03-21 12:00:00 -19.947305  27.550418\n",
       "2525762  Imperial SpaceShuttle 2020-03-21 12:00:00 -19.948896  27.550305\n",
       "\n",
       "[3463 rows x 4 columns]"
      ]
     },
     "execution_count": 39,
     "metadata": {},
     "output_type": "execute_result"
    }
   ],
   "source": [
    "data"
   ]
  },
  {
   "cell_type": "markdown",
   "metadata": {},
   "source": [
    "### Inspect id"
   ]
  },
  {
   "cell_type": "code",
   "execution_count": 26,
   "metadata": {},
   "outputs": [
    {
     "data": {
      "text/plain": [
       "<matplotlib.collections.PathCollection at 0x15e6a78e0>"
      ]
     },
     "execution_count": 26,
     "metadata": {},
     "output_type": "execute_result"
    },
    {
     "data": {
      "image/png": "[encoded data removed]",
      "text/plain": [
       "<Figure size 432x288 with 1 Axes>"
      ]
     },
     "metadata": {},
     "output_type": "display_data"
    }
   ],
   "source": [
    "# Is id continuous?\n",
    "plt.scatter(range(len(data.index)), data.index)"
   ]
  },
  {
   "cell_type": "markdown",
   "metadata": {},
   "source": [
    "- There seems to have an outlier in the end of the series\n",
    "- Id seems continuous (without the outlier)"
   ]
  },
  {
   "cell_type": "code",
   "execution_count": 22,
   "metadata": {},
   "outputs": [
    {
     "data": {
      "text/plain": [
       "[<matplotlib.lines.Line2D at 0x15e40b490>]"
      ]
     },
     "execution_count": 22,
     "metadata": {},
     "output_type": "execute_result"
    },
    {
     "data": {
      "image/png": "[encoded data removed]",
      "text/plain": [
       "<Figure size 432x288 with 1 Axes>"
      ]
     },
     "metadata": {},
     "output_type": "display_data"
    }
   ],
   "source": [
    "# (temprorarilly) Remove the outliers to zoom on the remaining ids\n",
    "plt.plot(range(len(data.index[:-4])), data.index[:-4])"
   ]
  },
  {
   "cell_type": "markdown",
   "metadata": {},
   "source": [
    "Analysis:\n",
    "- Ids indeed seem continuous\n",
    "\n",
    "Questions:\n",
    "- Is there a meaning in the id?\n",
    "- Is the id correlated with:\n",
    "    - the type of starship?\n",
    "    - the time (linear)\n",
    "    - the year period (cyclical)"
   ]
  },
  {
   "cell_type": "code",
   "execution_count": null,
   "metadata": {},
   "outputs": [],
   "source": [
    "# TODO: investigate"
   ]
  },
  {
   "cell_type": "markdown",
   "metadata": {},
   "source": [
    "### Inspect stream_date"
   ]
  },
  {
   "cell_type": "code",
   "execution_count": 14,
   "metadata": {},
   "outputs": [
    {
     "data": {
      "text/plain": [
       "Text(0.5, 1.0, 'Complete date')"
      ]
     },
     "execution_count": 14,
     "metadata": {},
     "output_type": "execute_result"
    },
    {
     "data": {
      "image/png": "[encoded data removed]",
      "text/plain": [
       "<Figure size 648x432 with 1 Axes>"
      ]
     },
     "metadata": {},
     "output_type": "display_data"
    }
   ],
   "source": [
    "plt.figure(figsize=(9, 6))\n",
    "date_counts = data['date'].value_counts()\n",
    "plt.scatter(date_counts.index, date_counts.values)\n",
    "plt.title('Complete date')"
   ]
  },
  {
   "cell_type": "markdown",
   "metadata": {},
   "source": [
    "Conclusions:\n",
    "- There are 2 types of snapshots:\n",
    "    - 1 with 40 data points on avg\n",
    "    - 1 with 57 data points on avg\n",
    "- There is no trend (stationary)\n",
    "- The variance is relatively low and constant / independent (heteroscedaticity)\n",
    "\n",
    "Questions:\n",
    "- Do some starships appear in one of the two snapshot more frequently / only?\n",
    "- Why are there two snapshots, rather than a unique measure with an equal number\n",
    "of data points each time?\n",
    "- Is the type of snapshot correlated with the period during the year?\n"
   ]
  },
  {
   "cell_type": "code",
   "execution_count": null,
   "metadata": {},
   "outputs": [],
   "source": [
    "# TODO: investigate"
   ]
  },
  {
   "cell_type": "markdown",
   "metadata": {},
   "source": [
    "### Investigate ship_type"
   ]
  },
  {
   "cell_type": "markdown",
   "metadata": {},
   "source": [
    "#### Ship_type repartition"
   ]
  },
  {
   "cell_type": "code",
   "execution_count": 37,
   "metadata": {},
   "outputs": [
    {
     "data": {
      "text/plain": [
       "TIE Fighter              2034\n",
       "Imperial SpaceShuttle     827\n",
       "TIE bomber                511\n",
       "Civilian Star Shuttle      89\n",
       "Surveillance droid          2\n",
       "Name: ship_type, dtype: int64"
      ]
     },
     "execution_count": 37,
     "metadata": {},
     "output_type": "execute_result"
    }
   ],
   "source": [
    "# Total period\n",
    "data['ship_type'].value_counts()"
   ]
  },
  {
   "cell_type": "code",
   "execution_count": 47,
   "metadata": {},
   "outputs": [],
   "source": [
    "# Get extreme dates\n",
    "date_first = data['date'].min()\n",
    "date_last = data['date'].max()\n",
    "\n",
    "# Masks\n",
    "ma_snap_first = data['date'] == date_first\n",
    "ma_snap_last = data['date'] == date_last\n",
    "\n",
    "# Extract ship_type for the given dates\n",
    "ship_type_first = data[ma_snap_first]['ship_type'].value_counts()\n",
    "ship_type_last = data[ma_snap_last]['ship_type'].value_counts()"
   ]
  },
  {
   "cell_type": "code",
   "execution_count": 48,
   "metadata": {},
   "outputs": [
    {
     "data": {
      "text/plain": [
       "TIE Fighter              38\n",
       "Imperial SpaceShuttle    11\n",
       "TIE bomber                7\n",
       "Civilian Star Shuttle     1\n",
       "Name: ship_type, dtype: int64"
      ]
     },
     "execution_count": 48,
     "metadata": {},
     "output_type": "execute_result"
    }
   ],
   "source": [
    "ship_type_first"
   ]
  },
  {
   "cell_type": "code",
   "execution_count": 49,
   "metadata": {},
   "outputs": [
    {
     "data": {
      "text/plain": [
       "TIE Fighter              21\n",
       "Imperial SpaceShuttle    11\n",
       "TIE bomber                5\n",
       "Name: ship_type, dtype: int64"
      ]
     },
     "execution_count": 49,
     "metadata": {},
     "output_type": "execute_result"
    }
   ],
   "source": [
    "ship_type_last"
   ]
  },
  {
   "cell_type": "markdown",
   "metadata": {},
   "source": [
    "#### Evolution of each ship_type"
   ]
  },
  {
   "cell_type": "code",
   "execution_count": 55,
   "metadata": {},
   "outputs": [],
   "source": [
    "# Get the count of a ship_type for each date\n",
    "ma_type_tie_fighter = data['ship_type'] == 'TIE Fighter'\n",
    "evol_count_tie_fighter = data[ma_type_tie_fighter].groupby('date').count()['ship_type']"
   ]
  },
  {
   "cell_type": "code",
   "execution_count": 62,
   "metadata": {},
   "outputs": [
    {
     "data": {
      "text/plain": [
       "<matplotlib.collections.PathCollection at 0x1687faac0>"
      ]
     },
     "execution_count": 62,
     "metadata": {},
     "output_type": "execute_result"
    },
    {
     "data": {
      "image/png": "[encoded data removed]",
      "text/plain": [
       "<Figure size 432x288 with 1 Axes>"
      ]
     },
     "metadata": {},
     "output_type": "display_data"
    }
   ],
   "source": [
    "plt.scatter(evol_count_tie_fighter.index, evol_count_tie_fighter)"
   ]
  },
  {
   "cell_type": "markdown",
   "metadata": {},
   "source": [
    "- Inevitably the same pattern in the count of data points appears"
   ]
  },
  {
   "cell_type": "code",
   "execution_count": 63,
   "metadata": {},
   "outputs": [
    {
     "data": {
      "text/html": [
       "<div>\n",
       "<style scoped>\n",
       "    .dataframe tbody tr th:only-of-type {\n",
       "        vertical-align: middle;\n",
       "    }\n",
       "\n",
       "    .dataframe tbody tr th {\n",
       "        vertical-align: top;\n",
       "    }\n",
       "\n",
       "    .dataframe thead th {\n",
       "        text-align: right;\n",
       "    }\n",
       "</style>\n",
       "<table border=\"1\" class=\"dataframe\">\n",
       "  <thead>\n",
       "    <tr style=\"text-align: right;\">\n",
       "      <th></th>\n",
       "      <th>ship_type</th>\n",
       "      <th>date</th>\n",
       "      <th>lon</th>\n",
       "      <th>lat</th>\n",
       "    </tr>\n",
       "    <tr>\n",
       "      <th>id</th>\n",
       "      <th></th>\n",
       "      <th></th>\n",
       "      <th></th>\n",
       "      <th></th>\n",
       "    </tr>\n",
       "  </thead>\n",
       "  <tbody>\n",
       "    <tr>\n",
       "      <th>1</th>\n",
       "      <td>TIE Fighter</td>\n",
       "      <td>2007-05-18 12:00:00</td>\n",
       "      <td>-19.950145</td>\n",
       "      <td>27.552059</td>\n",
       "    </tr>\n",
       "    <tr>\n",
       "      <th>4</th>\n",
       "      <td>TIE Fighter</td>\n",
       "      <td>2007-05-18 12:00:00</td>\n",
       "      <td>-19.915460</td>\n",
       "      <td>27.516342</td>\n",
       "    </tr>\n",
       "    <tr>\n",
       "      <th>5</th>\n",
       "      <td>TIE Fighter</td>\n",
       "      <td>2007-05-18 12:00:00</td>\n",
       "      <td>-19.948334</td>\n",
       "      <td>27.557954</td>\n",
       "    </tr>\n",
       "    <tr>\n",
       "      <th>7</th>\n",
       "      <td>TIE Fighter</td>\n",
       "      <td>2007-05-18 12:00:00</td>\n",
       "      <td>-19.950314</td>\n",
       "      <td>27.552943</td>\n",
       "    </tr>\n",
       "    <tr>\n",
       "      <th>8</th>\n",
       "      <td>TIE Fighter</td>\n",
       "      <td>2007-05-18 12:00:00</td>\n",
       "      <td>-19.951056</td>\n",
       "      <td>27.552835</td>\n",
       "    </tr>\n",
       "    <tr>\n",
       "      <th>...</th>\n",
       "      <td>...</td>\n",
       "      <td>...</td>\n",
       "      <td>...</td>\n",
       "      <td>...</td>\n",
       "    </tr>\n",
       "    <tr>\n",
       "      <th>3435</th>\n",
       "      <td>TIE Fighter</td>\n",
       "      <td>2028-04-21 12:00:00</td>\n",
       "      <td>-19.948957</td>\n",
       "      <td>27.551058</td>\n",
       "    </tr>\n",
       "    <tr>\n",
       "      <th>3438</th>\n",
       "      <td>TIE Fighter</td>\n",
       "      <td>2028-04-21 12:00:00</td>\n",
       "      <td>-19.947813</td>\n",
       "      <td>27.548688</td>\n",
       "    </tr>\n",
       "    <tr>\n",
       "      <th>3442</th>\n",
       "      <td>TIE Fighter</td>\n",
       "      <td>2028-04-21 12:00:00</td>\n",
       "      <td>-19.939484</td>\n",
       "      <td>27.540039</td>\n",
       "    </tr>\n",
       "    <tr>\n",
       "      <th>3450</th>\n",
       "      <td>TIE Fighter</td>\n",
       "      <td>2028-04-21 12:00:00</td>\n",
       "      <td>-19.928890</td>\n",
       "      <td>27.531624</td>\n",
       "    </tr>\n",
       "    <tr>\n",
       "      <th>3452</th>\n",
       "      <td>TIE Fighter</td>\n",
       "      <td>2028-04-21 12:00:00</td>\n",
       "      <td>-19.926005</td>\n",
       "      <td>27.530272</td>\n",
       "    </tr>\n",
       "  </tbody>\n",
       "</table>\n",
       "<p>2034 rows × 4 columns</p>\n",
       "</div>"
      ],
      "text/plain": [
       "        ship_type                date        lon        lat\n",
       "id                                                         \n",
       "1     TIE Fighter 2007-05-18 12:00:00 -19.950145  27.552059\n",
       "4     TIE Fighter 2007-05-18 12:00:00 -19.915460  27.516342\n",
       "5     TIE Fighter 2007-05-18 12:00:00 -19.948334  27.557954\n",
       "7     TIE Fighter 2007-05-18 12:00:00 -19.950314  27.552943\n",
       "8     TIE Fighter 2007-05-18 12:00:00 -19.951056  27.552835\n",
       "...           ...                 ...        ...        ...\n",
       "3435  TIE Fighter 2028-04-21 12:00:00 -19.948957  27.551058\n",
       "3438  TIE Fighter 2028-04-21 12:00:00 -19.947813  27.548688\n",
       "3442  TIE Fighter 2028-04-21 12:00:00 -19.939484  27.540039\n",
       "3450  TIE Fighter 2028-04-21 12:00:00 -19.928890  27.531624\n",
       "3452  TIE Fighter 2028-04-21 12:00:00 -19.926005  27.530272\n",
       "\n",
       "[2034 rows x 4 columns]"
      ]
     },
     "execution_count": 63,
     "metadata": {},
     "output_type": "execute_result"
    }
   ],
   "source": [
    "data[ma_type_tie_fighter]"
   ]
  }
 ],
 "metadata": {
  "interpreter": {
   "hash": "6ae9f146fdc49090f2d9ecf90d9e5df7f59010a5a1e27153f99cb03a3b2e84a3"
  },
  "kernelspec": {
   "display_name": "Python 3.9.4 64-bit ('geo': conda)",
   "name": "python3"
  },
  "language_info": {
   "codemirror_mode": {
    "name": "ipython",
    "version": 3
   },
   "file_extension": ".py",
   "mimetype": "text/x-python",
   "name": "python",
   "nbconvert_exporter": "python",
   "pygments_lexer": "ipython3",
   "version": "3.9.4"
  },
  "orig_nbformat": 2
 },
 "nbformat": 4,
 "nbformat_minor": 2
}