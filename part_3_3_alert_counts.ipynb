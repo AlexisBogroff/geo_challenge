{
 "cells": [
  {
   "cell_type": "code",
   "execution_count": 1,
   "metadata": {},
   "outputs": [],
   "source": [
    "import pandas as pd\n",
    "import matplotlib.pyplot as plt"
   ]
  },
  {
   "cell_type": "markdown",
   "metadata": {},
   "source": [
    "## Fit original data"
   ]
  },
  {
   "cell_type": "code",
   "execution_count": 2,
   "metadata": {},
   "outputs": [],
   "source": [
    "data_t0 = pd.read_csv('data/starships_slice_init.csv', index_col='id', parse_dates=['date'])"
   ]
  },
  {
   "cell_type": "code",
   "execution_count": 3,
   "metadata": {},
   "outputs": [],
   "source": [
    "# Compute stats for number of ships counted over time\n",
    "counts_along_time = data_t0.groupby(['ship_type', 'date']).count()['lon']\n",
    "counts_stats = counts_along_time.groupby('ship_type').describe()"
   ]
  },
  {
   "cell_type": "code",
   "execution_count": 4,
   "metadata": {},
   "outputs": [
    {
     "data": {
      "text/html": [
       "<div>\n",
       "<style scoped>\n",
       "    .dataframe tbody tr th:only-of-type {\n",
       "        vertical-align: middle;\n",
       "    }\n",
       "\n",
       "    .dataframe tbody tr th {\n",
       "        vertical-align: top;\n",
       "    }\n",
       "\n",
       "    .dataframe thead th {\n",
       "        text-align: right;\n",
       "    }\n",
       "</style>\n",
       "<table border=\"1\" class=\"dataframe\">\n",
       "  <thead>\n",
       "    <tr style=\"text-align: right;\">\n",
       "      <th></th>\n",
       "      <th>count</th>\n",
       "      <th>mean</th>\n",
       "      <th>std</th>\n",
       "      <th>min</th>\n",
       "      <th>25%</th>\n",
       "      <th>50%</th>\n",
       "      <th>75%</th>\n",
       "      <th>max</th>\n",
       "      <th>bound_max</th>\n",
       "      <th>bound_min</th>\n",
       "    </tr>\n",
       "    <tr>\n",
       "      <th>ship_type</th>\n",
       "      <th></th>\n",
       "      <th></th>\n",
       "      <th></th>\n",
       "      <th></th>\n",
       "      <th></th>\n",
       "      <th></th>\n",
       "      <th></th>\n",
       "      <th></th>\n",
       "      <th></th>\n",
       "      <th></th>\n",
       "    </tr>\n",
       "  </thead>\n",
       "  <tbody>\n",
       "    <tr>\n",
       "      <th>Civilian Star Shuttle</th>\n",
       "      <td>13.0</td>\n",
       "      <td>1.538462</td>\n",
       "      <td>0.776250</td>\n",
       "      <td>1.0</td>\n",
       "      <td>1.0</td>\n",
       "      <td>1.0</td>\n",
       "      <td>2.0</td>\n",
       "      <td>3.0</td>\n",
       "      <td>3.867212</td>\n",
       "      <td>-0.790289</td>\n",
       "    </tr>\n",
       "    <tr>\n",
       "      <th>Imperial SpaceShuttle</th>\n",
       "      <td>17.0</td>\n",
       "      <td>10.941176</td>\n",
       "      <td>0.555719</td>\n",
       "      <td>10.0</td>\n",
       "      <td>11.0</td>\n",
       "      <td>11.0</td>\n",
       "      <td>11.0</td>\n",
       "      <td>12.0</td>\n",
       "      <td>12.608333</td>\n",
       "      <td>9.274020</td>\n",
       "    </tr>\n",
       "    <tr>\n",
       "      <th>TIE Fighter</th>\n",
       "      <td>17.0</td>\n",
       "      <td>21.529412</td>\n",
       "      <td>0.717430</td>\n",
       "      <td>21.0</td>\n",
       "      <td>21.0</td>\n",
       "      <td>21.0</td>\n",
       "      <td>22.0</td>\n",
       "      <td>23.0</td>\n",
       "      <td>23.681702</td>\n",
       "      <td>19.377122</td>\n",
       "    </tr>\n",
       "    <tr>\n",
       "      <th>TIE bomber</th>\n",
       "      <td>17.0</td>\n",
       "      <td>6.882353</td>\n",
       "      <td>0.332106</td>\n",
       "      <td>6.0</td>\n",
       "      <td>7.0</td>\n",
       "      <td>7.0</td>\n",
       "      <td>7.0</td>\n",
       "      <td>7.0</td>\n",
       "      <td>7.878670</td>\n",
       "      <td>5.886036</td>\n",
       "    </tr>\n",
       "  </tbody>\n",
       "</table>\n",
       "</div>"
      ],
      "text/plain": [
       "                       count       mean       std   min   25%   50%   75%  \\\n",
       "ship_type                                                                   \n",
       "Civilian Star Shuttle   13.0   1.538462  0.776250   1.0   1.0   1.0   2.0   \n",
       "Imperial SpaceShuttle   17.0  10.941176  0.555719  10.0  11.0  11.0  11.0   \n",
       "TIE Fighter             17.0  21.529412  0.717430  21.0  21.0  21.0  22.0   \n",
       "TIE bomber              17.0   6.882353  0.332106   6.0   7.0   7.0   7.0   \n",
       "\n",
       "                        max  bound_max  bound_min  \n",
       "ship_type                                          \n",
       "Civilian Star Shuttle   3.0   3.867212  -0.790289  \n",
       "Imperial SpaceShuttle  12.0  12.608333   9.274020  \n",
       "TIE Fighter            23.0  23.681702  19.377122  \n",
       "TIE bomber              7.0   7.878670   5.886036  "
      ]
     },
     "execution_count": 4,
     "metadata": {},
     "output_type": "execute_result"
    }
   ],
   "source": [
    "# Add boundaries\n",
    "counts_stats['bound_max'] = counts_stats['mean'] + 3 * counts_stats['std']\n",
    "counts_stats['bound_min'] = counts_stats['mean'] - 3 * counts_stats['std']\n",
    "counts_stats"
   ]
  },
  {
   "cell_type": "markdown",
   "metadata": {},
   "source": [
    "## Detect breaches"
   ]
  },
  {
   "cell_type": "code",
   "execution_count": 5,
   "metadata": {},
   "outputs": [],
   "source": [
    "# Load new dataa\n",
    "#data = pd.read_csv('data/starships_slice_new_1.csv', index_col='id', parse_dates=['date'])\n",
    "\n",
    "# Filter specific date\n",
    "DATE_MIN = '2020-01-01'\n",
    "DATE_MAX = '2020-10-01'\n",
    "data_t1 = pd.read_csv('data/starships_clean.csv', index_col='id', parse_dates=['date'])\n",
    "ma_min = data_t1['date'] > DATE_MIN\n",
    "ma_max = data_t1['date'] < DATE_MAX\n",
    "data = data_t1[ma_min & ma_max]"
   ]
  },
  {
   "cell_type": "code",
   "execution_count": 6,
   "metadata": {},
   "outputs": [],
   "source": [
    "# Keep only ship types present in both snaps\n",
    "# /!\\ Will not consider the droids if not on both snaps!\n",
    "ship_types_0 = data_t0['ship_type'].unique()\n",
    "ship_types_1 = data_t1['ship_type'].unique()\n",
    "ship_types = [s_type for s_type in ship_types_0 if s_type in ship_types_1]"
   ]
  },
  {
   "cell_type": "code",
   "execution_count": 7,
   "metadata": {},
   "outputs": [],
   "source": [
    "counts_along_time = data_t1.groupby(['ship_type', 'date']).count()['lon']"
   ]
  },
  {
   "cell_type": "code",
   "execution_count": 8,
   "metadata": {},
   "outputs": [],
   "source": [
    "# Record outliers\n",
    "break_max = {}\n",
    "break_min = {}\n",
    "\n",
    "for ship in ship_types:\n",
    "    ma_ship_break_max = counts_along_time.loc[ship] > (counts_stats['bound_max'].loc[ship])\n",
    "    ship_break_max = counts_along_time[ship][ma_ship_break_max]\n",
    "    break_max[ship] = ship_break_max\n",
    "\n",
    "    ma_ship_break_min = counts_along_time.loc[ship] < (counts_stats['bound_min'].loc[ship])\n",
    "    ship_break_min = counts_along_time[ship][ma_ship_break_min]\n",
    "    break_min[ship] = ship_break_min"
   ]
  },
  {
   "cell_type": "code",
   "execution_count": 9,
   "metadata": {},
   "outputs": [
    {
     "data": {
      "text/plain": [
       "{'TIE Fighter': date\n",
       " 2020-02-06 12:00:00    27\n",
       " 2020-02-22 12:00:00    37\n",
       " 2020-02-25 12:00:00    37\n",
       " 2020-02-28 12:00:00    37\n",
       " 2020-03-07 12:00:00    37\n",
       " 2020-03-15 12:00:00    36\n",
       " 2020-03-27 12:00:00    36\n",
       " 2020-04-22 12:00:00    37\n",
       " 2020-05-01 12:00:00    38\n",
       " 2020-05-09 12:00:00    38\n",
       " 2020-05-30 12:00:00    37\n",
       " 2020-06-07 12:00:00    38\n",
       " 2020-07-09 12:00:00    37\n",
       " 2020-07-21 12:00:00    36\n",
       " 2020-10-13 12:00:00    36\n",
       " 2020-10-16 12:00:00    37\n",
       " 2020-10-30 12:00:00    39\n",
       " 2020-12-09 12:00:00    36\n",
       " 2020-12-29 12:00:00    37\n",
       " 2021-01-07 12:00:00    38\n",
       " 2021-01-19 12:00:00    38\n",
       " 2021-02-10 12:00:00    36\n",
       " 2021-02-20 12:00:00    38\n",
       " 2021-02-28 12:00:00    39\n",
       " 2021-03-07 12:00:00    37\n",
       " 2021-03-20 12:00:00    38\n",
       " 2021-04-02 12:00:00    38\n",
       " 2021-04-16 12:00:00    39\n",
       " 2021-04-28 12:00:00    38\n",
       " Name: lon, dtype: int64,\n",
       " 'TIE bomber': Series([], Name: lon, dtype: int64),\n",
       " 'Imperial SpaceShuttle': date\n",
       " 2020-05-09 12:00:00    13\n",
       " 2020-10-30 12:00:00    13\n",
       " 2021-03-07 12:00:00    13\n",
       " 2021-03-20 12:00:00    20\n",
       " 2021-04-28 12:00:00    13\n",
       " Name: lon, dtype: int64,\n",
       " 'Civilian Star Shuttle': Series([], Name: lon, dtype: int64)}"
      ]
     },
     "execution_count": 9,
     "metadata": {},
     "output_type": "execute_result"
    }
   ],
   "source": [
    "break_max"
   ]
  },
  {
   "cell_type": "code",
   "execution_count": 10,
   "metadata": {},
   "outputs": [
    {
     "data": {
      "text/plain": [
       "{'TIE Fighter': Series([], Name: lon, dtype: int64),\n",
       " 'TIE bomber': date\n",
       " 2019-07-31 12:00:00    5\n",
       " Name: lon, dtype: int64,\n",
       " 'Imperial SpaceShuttle': date\n",
       " 2019-04-27 12:00:00    9\n",
       " 2020-02-25 12:00:00    9\n",
       " Name: lon, dtype: int64,\n",
       " 'Civilian Star Shuttle': Series([], Name: lon, dtype: int64)}"
      ]
     },
     "execution_count": 10,
     "metadata": {},
     "output_type": "execute_result"
    }
   ],
   "source": [
    "break_min"
   ]
  },
  {
   "cell_type": "code",
   "execution_count": 11,
   "metadata": {},
   "outputs": [
    {
     "data": {
      "text/plain": [
       "['TIE Fighter', 'TIE bomber', 'Imperial SpaceShuttle', 'Civilian Star Shuttle']"
      ]
     },
     "execution_count": 11,
     "metadata": {},
     "output_type": "execute_result"
    }
   ],
   "source": [
    "ship_types"
   ]
  },
  {
   "cell_type": "code",
   "execution_count": 12,
   "metadata": {},
   "outputs": [
    {
     "data": {
      "text/plain": [
       "TIE Fighter              2034\n",
       "Imperial SpaceShuttle     827\n",
       "TIE bomber                511\n",
       "Civilian Star Shuttle      89\n",
       "Surveillance droid          2\n",
       "Name: ship_type, dtype: int64"
      ]
     },
     "execution_count": 12,
     "metadata": {},
     "output_type": "execute_result"
    }
   ],
   "source": [
    "data_t1['ship_type'].value_counts()"
   ]
  },
  {
   "cell_type": "code",
   "execution_count": 20,
   "metadata": {},
   "outputs": [
    {
     "data": {
      "image/png": "[encoded data removed]",
      "text/plain": [
       "<Figure size 720x576 with 4 Axes>"
      ]
     },
     "metadata": {
      "needs_background": "light"
     },
     "output_type": "display_data"
    }
   ],
   "source": [
    "# Get the count of a ship_type for each date\n",
    "series_by_type = []\n",
    "fig, axs = plt.subplots(len(ship_types), 1, figsize=(10, 8), sharex=True)\n",
    "\n",
    "date_min = data_t1['date'].min()\n",
    "date_max = data_t1['date'].max()\n",
    "\n",
    "for i, ship_type in enumerate(ship_types):\n",
    "    ma_ship_type = data_t1['ship_type'] == ship_type\n",
    "    evol_count = data_t1[ma_ship_type].groupby('date').count()['ship_type']\n",
    "    axs[i].scatter(evol_count.index, evol_count)\n",
    "    axs[i].set_title(ship_type)\n",
    "    \n",
    "    # Draw boundaries\n",
    "    axs[i].hlines(counts_stats['bound_min'].loc[ship_type], xmin=date_min, xmax=date_max, color='r', linestyles='dotted')\n",
    "    axs[i].hlines(counts_stats['bound_max'].loc[ship_type], xmin=date_min, xmax=date_max, color='r', linestyles='dotted')\n",
    "\n",
    "    try:\n",
    "        axs[i].scatter(break_max[ship_type].index, break_max[ship_type].values, color='r', s=150, marker='v')\n",
    "        axs[i].scatter(break_min[ship_type].index, break_min[ship_type].values, color='r', s=150, marker='^')\n",
    "    except:\n",
    "        pass\n",
    "\n",
    "plt.suptitle('Evolution of starships count by category with boundaries and outliers')\n",
    "fig.text(0.06, 0.5, 'count', ha='center', va='center', rotation='vertical')\n",
    "plt.xlabel('date')\n",
    "# plt.tight_layout()\n",
    "plt.savefig('data/figures/event_detector.pdf')"
   ]
  },
  {
   "cell_type": "code",
   "execution_count": null,
   "metadata": {},
   "outputs": [],
   "source": []
  }
 ],
 "metadata": {
  "interpreter": {
   "hash": "6ae9f146fdc49090f2d9ecf90d9e5df7f59010a5a1e27153f99cb03a3b2e84a3"
  },
  "kernelspec": {
   "display_name": "Python 3.9.4 64-bit ('geo': conda)",
   "name": "python3"
  },
  "language_info": {
   "codemirror_mode": {
    "name": "ipython",
    "version": 3
   },
   "file_extension": ".py",
   "mimetype": "text/x-python",
   "name": "python",
   "nbconvert_exporter": "python",
   "pygments_lexer": "ipython3",
   "version": "3.9.4"
  },
  "orig_nbformat": 2
 },
 "nbformat": 4,
 "nbformat_minor": 2
}